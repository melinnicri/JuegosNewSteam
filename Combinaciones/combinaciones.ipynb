{
 "cells": [
  {
   "cell_type": "markdown",
   "metadata": {},
   "source": [
    "# Pedido:\n",
    "Reviews: sentiment analysis: \n",
    "'0' si es malo, \n",
    "'1' si es neutral y \n",
    "'2' si es positivo. \n",
    "Si ausente la reseña escrita, debe tomar el valor de 1.\n",
    "\n",
    "developer\n",
    "contenido free en %\n",
    "año\n",
    "cant items\n",
    "\n",
    "user_id\n",
    "dinero gastado\n",
    "recomendación en %\n",
    "cant de items\n",
    "\n",
    "usuario\n",
    "horas jugadas por género\n",
    "año de lanzamiento\n",
    "horas de juego acumuladas\n",
    "\n",
    "\n",
    "mejor desarrollador\n",
    "con más juegos recomendados\n",
    "por usuario\n",
    "por año\n",
    "\n",
    "desarrollador \n",
    "reseñas positivas o negativas\n",
    "\n",
    "ml: coseno de similitud\n",
    "user-item(usuario): id_usuario y 5 juegos recomendados similares\n",
    "item-item(producto): id_producto y 5 juegos recomendados similares"
   ]
  },
  {
   "cell_type": "code",
   "execution_count": 1,
   "metadata": {},
   "outputs": [],
   "source": [
    "import pandas as pd"
   ]
  },
  {
   "cell_type": "code",
   "execution_count": 2,
   "metadata": {},
   "outputs": [],
   "source": [
    "# Abrir archivo .csv a dataframe\n",
    "df_1 = pd.read_csv(\"First_Game.csv\", encoding = \"latin-1\")"
   ]
  },
  {
   "cell_type": "code",
   "execution_count": 3,
   "metadata": {},
   "outputs": [
    {
     "name": "stdout",
     "output_type": "stream",
     "text": [
      "<class 'pandas.core.frame.DataFrame'>\n",
      "RangeIndex: 74837 entries, 0 to 74836\n",
      "Data columns (total 9 columns):\n",
      " #   Column     Non-Null Count  Dtype \n",
      "---  ------     --------------  ----- \n",
      " 0   genres     74837 non-null  object\n",
      " 1   app_name   74837 non-null  object\n",
      " 2   title      74837 non-null  object\n",
      " 3   price      74837 non-null  object\n",
      " 4   id         74837 non-null  int64 \n",
      " 5   developer  74837 non-null  object\n",
      " 6   year       74837 non-null  object\n",
      " 7   month      74618 non-null  object\n",
      " 8   day        74391 non-null  object\n",
      "dtypes: int64(1), object(8)\n",
      "memory usage: 5.1+ MB\n"
     ]
    }
   ],
   "source": [
    "df_1.info()"
   ]
  },
  {
   "cell_type": "code",
   "execution_count": 4,
   "metadata": {},
   "outputs": [
    {
     "data": {
      "text/plain": [
       "Index(['genres', 'app_name', 'title', 'price', 'id', 'developer', 'year',\n",
       "       'month', 'day'],\n",
       "      dtype='object')"
      ]
     },
     "execution_count": 4,
     "metadata": {},
     "output_type": "execute_result"
    }
   ],
   "source": [
    "# Nombres de columnas\n",
    "df_1.columns"
   ]
  },
  {
   "cell_type": "code",
   "execution_count": 5,
   "metadata": {},
   "outputs": [],
   "source": [
    "# Abrir archivo .csv a dataframe\n",
    "df_2 = pd.read_csv(\"Second_Reviews.csv\", encoding = \"latin-1\")"
   ]
  },
  {
   "cell_type": "code",
   "execution_count": 6,
   "metadata": {},
   "outputs": [
    {
     "name": "stdout",
     "output_type": "stream",
     "text": [
      "<class 'pandas.core.frame.DataFrame'>\n",
      "RangeIndex: 59305 entries, 0 to 59304\n",
      "Data columns (total 5 columns):\n",
      " #   Column              Non-Null Count  Dtype \n",
      "---  ------              --------------  ----- \n",
      " 0   user_id             59305 non-null  object\n",
      " 1   item_id             59305 non-null  int64 \n",
      " 2   recommend           59305 non-null  bool  \n",
      " 3   sentiment_analysis  59305 non-null  int64 \n",
      " 4   Fecha_final         59305 non-null  object\n",
      "dtypes: bool(1), int64(2), object(2)\n",
      "memory usage: 1.9+ MB\n"
     ]
    }
   ],
   "source": [
    "df_2.info()"
   ]
  },
  {
   "cell_type": "code",
   "execution_count": 7,
   "metadata": {},
   "outputs": [
    {
     "data": {
      "text/plain": [
       "Index(['user_id', 'item_id', 'recommend', 'sentiment_analysis', 'Fecha_final'], dtype='object')"
      ]
     },
     "execution_count": 7,
     "metadata": {},
     "output_type": "execute_result"
    }
   ],
   "source": [
    "# Nombres de columnas\n",
    "df_2.columns"
   ]
  },
  {
   "cell_type": "code",
   "execution_count": 8,
   "metadata": {},
   "outputs": [],
   "source": [
    "# Abrir archivo .csv a dataframe\n",
    "df_3 = pd.read_csv(\"Third_Items.csv\", encoding = \"latin-1\")"
   ]
  },
  {
   "cell_type": "code",
   "execution_count": 9,
   "metadata": {},
   "outputs": [
    {
     "name": "stdout",
     "output_type": "stream",
     "text": [
      "<class 'pandas.core.frame.DataFrame'>\n",
      "RangeIndex: 5153209 entries, 0 to 5153208\n",
      "Data columns (total 7 columns):\n",
      " #   Column            Dtype \n",
      "---  ------            ----- \n",
      " 0   user_id           object\n",
      " 1   items_count       int64 \n",
      " 2   steam_id          int64 \n",
      " 3   item_id           int64 \n",
      " 4   item_name         object\n",
      " 5   playtime_forever  int64 \n",
      " 6   playtime_2weeks   int64 \n",
      "dtypes: int64(5), object(2)\n",
      "memory usage: 275.2+ MB\n"
     ]
    }
   ],
   "source": [
    "df_3.info()"
   ]
  },
  {
   "cell_type": "code",
   "execution_count": 10,
   "metadata": {},
   "outputs": [
    {
     "data": {
      "text/plain": [
       "Index(['user_id', 'items_count', 'steam_id', 'item_id', 'item_name',\n",
       "       'playtime_forever', 'playtime_2weeks'],\n",
       "      dtype='object')"
      ]
     },
     "execution_count": 10,
     "metadata": {},
     "output_type": "execute_result"
    }
   ],
   "source": [
    "# Nombres de columnas\n",
    "df_3.columns"
   ]
  },
  {
   "cell_type": "code",
   "execution_count": 11,
   "metadata": {},
   "outputs": [],
   "source": [
    "# Consulta 1:    developer contenido free en % año cant items\n",
    "\n",
    "# Unir de dataframe df_1: developer, price, id, year; df_3: items_count, user_id:\n",
    "df_unido_1 = pd.merge(df_1[[\"developer\", \"price\", \"year\", \"id\"]],\n",
    "                      df_3[[\"user_id\", \"items_count\", \"item_name\"]],\n",
    "                      left_index=True, right_index=True)"
   ]
  },
  {
   "cell_type": "code",
   "execution_count": 12,
   "metadata": {},
   "outputs": [
    {
     "name": "stdout",
     "output_type": "stream",
     "text": [
      "<class 'pandas.core.frame.DataFrame'>\n",
      "Index: 74837 entries, 0 to 74836\n",
      "Data columns (total 7 columns):\n",
      " #   Column       Non-Null Count  Dtype \n",
      "---  ------       --------------  ----- \n",
      " 0   developer    74837 non-null  object\n",
      " 1   price        74837 non-null  object\n",
      " 2   year         74837 non-null  object\n",
      " 3   id           74837 non-null  int64 \n",
      " 4   user_id      74837 non-null  object\n",
      " 5   items_count  74837 non-null  int64 \n",
      " 6   item_name    74837 non-null  object\n",
      "dtypes: int64(2), object(5)\n",
      "memory usage: 4.6+ MB\n"
     ]
    }
   ],
   "source": [
    "# Ver info de nueva dataframe\n",
    "df_unido_1.info() # 74 836 datos"
   ]
  },
  {
   "cell_type": "code",
   "execution_count": 13,
   "metadata": {},
   "outputs": [
    {
     "data": {
      "text/html": [
       "<div>\n",
       "<style scoped>\n",
       "    .dataframe tbody tr th:only-of-type {\n",
       "        vertical-align: middle;\n",
       "    }\n",
       "\n",
       "    .dataframe tbody tr th {\n",
       "        vertical-align: top;\n",
       "    }\n",
       "\n",
       "    .dataframe thead th {\n",
       "        text-align: right;\n",
       "    }\n",
       "</style>\n",
       "<table border=\"1\" class=\"dataframe\">\n",
       "  <thead>\n",
       "    <tr style=\"text-align: right;\">\n",
       "      <th></th>\n",
       "      <th>developer</th>\n",
       "      <th>price</th>\n",
       "      <th>year</th>\n",
       "      <th>id</th>\n",
       "      <th>user_id</th>\n",
       "      <th>items_count</th>\n",
       "      <th>item_name</th>\n",
       "    </tr>\n",
       "  </thead>\n",
       "  <tbody>\n",
       "    <tr>\n",
       "      <th>0</th>\n",
       "      <td>Kotoshiro</td>\n",
       "      <td>5.0</td>\n",
       "      <td>2018-01-01 00:00:00</td>\n",
       "      <td>761140</td>\n",
       "      <td>76561197970982479</td>\n",
       "      <td>277</td>\n",
       "      <td>Counter-Strike</td>\n",
       "    </tr>\n",
       "    <tr>\n",
       "      <th>1</th>\n",
       "      <td>Kotoshiro</td>\n",
       "      <td>5.0</td>\n",
       "      <td>2018-01-01 00:00:00</td>\n",
       "      <td>761140</td>\n",
       "      <td>76561197970982479</td>\n",
       "      <td>277</td>\n",
       "      <td>Team Fortress Classic</td>\n",
       "    </tr>\n",
       "    <tr>\n",
       "      <th>2</th>\n",
       "      <td>Kotoshiro</td>\n",
       "      <td>5.0</td>\n",
       "      <td>2018-01-01 00:00:00</td>\n",
       "      <td>761140</td>\n",
       "      <td>76561197970982479</td>\n",
       "      <td>277</td>\n",
       "      <td>Day of Defeat</td>\n",
       "    </tr>\n",
       "    <tr>\n",
       "      <th>3</th>\n",
       "      <td>Kotoshiro</td>\n",
       "      <td>5.0</td>\n",
       "      <td>2018-01-01 00:00:00</td>\n",
       "      <td>761140</td>\n",
       "      <td>76561197970982479</td>\n",
       "      <td>277</td>\n",
       "      <td>Deathmatch Classic</td>\n",
       "    </tr>\n",
       "    <tr>\n",
       "      <th>4</th>\n",
       "      <td>Kotoshiro</td>\n",
       "      <td>5.0</td>\n",
       "      <td>2018-01-01 00:00:00</td>\n",
       "      <td>761140</td>\n",
       "      <td>76561197970982479</td>\n",
       "      <td>277</td>\n",
       "      <td>Half-Life: Opposing Force</td>\n",
       "    </tr>\n",
       "    <tr>\n",
       "      <th>...</th>\n",
       "      <td>...</td>\n",
       "      <td>...</td>\n",
       "      <td>...</td>\n",
       "      <td>...</td>\n",
       "      <td>...</td>\n",
       "      <td>...</td>\n",
       "      <td>...</td>\n",
       "    </tr>\n",
       "    <tr>\n",
       "      <th>74832</th>\n",
       "      <td>Laush Dmitriy Sergeevich</td>\n",
       "      <td>2.0</td>\n",
       "      <td>2018-01-01 00:00:00</td>\n",
       "      <td>610660</td>\n",
       "      <td>13lazer</td>\n",
       "      <td>398</td>\n",
       "      <td>Rust</td>\n",
       "    </tr>\n",
       "    <tr>\n",
       "      <th>74833</th>\n",
       "      <td>Laush Dmitriy Sergeevich</td>\n",
       "      <td>2.0</td>\n",
       "      <td>2018-01-01 00:00:00</td>\n",
       "      <td>610660</td>\n",
       "      <td>13lazer</td>\n",
       "      <td>398</td>\n",
       "      <td>KickBeat Steam Edition</td>\n",
       "    </tr>\n",
       "    <tr>\n",
       "      <th>74834</th>\n",
       "      <td>xropi,stev3ns</td>\n",
       "      <td>5.0</td>\n",
       "      <td>2017-01-01 00:00:00</td>\n",
       "      <td>658870</td>\n",
       "      <td>13lazer</td>\n",
       "      <td>398</td>\n",
       "      <td>State of Decay</td>\n",
       "    </tr>\n",
       "    <tr>\n",
       "      <th>74835</th>\n",
       "      <td>xropi,stev3ns</td>\n",
       "      <td>5.0</td>\n",
       "      <td>2017-01-01 00:00:00</td>\n",
       "      <td>658870</td>\n",
       "      <td>13lazer</td>\n",
       "      <td>398</td>\n",
       "      <td>Call of Duty: Ghosts</td>\n",
       "    </tr>\n",
       "    <tr>\n",
       "      <th>74836</th>\n",
       "      <td>0</td>\n",
       "      <td>5.0</td>\n",
       "      <td></td>\n",
       "      <td>681550</td>\n",
       "      <td>13lazer</td>\n",
       "      <td>398</td>\n",
       "      <td>Call of Duty: Ghosts - Multiplayer</td>\n",
       "    </tr>\n",
       "  </tbody>\n",
       "</table>\n",
       "<p>74837 rows × 7 columns</p>\n",
       "</div>"
      ],
      "text/plain": [
       "                      developer price                 year      id  \\\n",
       "0                     Kotoshiro   5.0  2018-01-01 00:00:00  761140   \n",
       "1                     Kotoshiro   5.0  2018-01-01 00:00:00  761140   \n",
       "2                     Kotoshiro   5.0  2018-01-01 00:00:00  761140   \n",
       "3                     Kotoshiro   5.0  2018-01-01 00:00:00  761140   \n",
       "4                     Kotoshiro   5.0  2018-01-01 00:00:00  761140   \n",
       "...                         ...   ...                  ...     ...   \n",
       "74832  Laush Dmitriy Sergeevich   2.0  2018-01-01 00:00:00  610660   \n",
       "74833  Laush Dmitriy Sergeevich   2.0  2018-01-01 00:00:00  610660   \n",
       "74834             xropi,stev3ns   5.0  2017-01-01 00:00:00  658870   \n",
       "74835             xropi,stev3ns   5.0  2017-01-01 00:00:00  658870   \n",
       "74836                         0   5.0                       681550   \n",
       "\n",
       "                 user_id  items_count                           item_name  \n",
       "0      76561197970982479          277                      Counter-Strike  \n",
       "1      76561197970982479          277               Team Fortress Classic  \n",
       "2      76561197970982479          277                       Day of Defeat  \n",
       "3      76561197970982479          277                  Deathmatch Classic  \n",
       "4      76561197970982479          277           Half-Life: Opposing Force  \n",
       "...                  ...          ...                                 ...  \n",
       "74832            13lazer          398                                Rust  \n",
       "74833            13lazer          398              KickBeat Steam Edition  \n",
       "74834            13lazer          398                      State of Decay  \n",
       "74835            13lazer          398                Call of Duty: Ghosts  \n",
       "74836            13lazer          398  Call of Duty: Ghosts - Multiplayer  \n",
       "\n",
       "[74837 rows x 7 columns]"
      ]
     },
     "execution_count": 13,
     "metadata": {},
     "output_type": "execute_result"
    }
   ],
   "source": [
    "df_unido_1"
   ]
  },
  {
   "cell_type": "code",
   "execution_count": 14,
   "metadata": {},
   "outputs": [],
   "source": [
    "# Consulta 2:  user_id dinero gastado recomendación en % cant de items\n",
    "\n",
    "# Unir de dataframe df_1: price, id; df_3: items_count, user_id; df_2: recommend\n",
    "\n",
    "\n",
    "df_unido_2 = pd.merge(df_unido_1[[\"price\", \"id\", \"user_id\", \"items_count\", \"item_name\"]],\n",
    "                      df_2[[\"recommend\"]],\n",
    "                      left_index=True, right_index=True)"
   ]
  },
  {
   "cell_type": "code",
   "execution_count": 15,
   "metadata": {},
   "outputs": [
    {
     "name": "stdout",
     "output_type": "stream",
     "text": [
      "<class 'pandas.core.frame.DataFrame'>\n",
      "Index: 59305 entries, 0 to 59304\n",
      "Data columns (total 6 columns):\n",
      " #   Column       Non-Null Count  Dtype \n",
      "---  ------       --------------  ----- \n",
      " 0   price        59305 non-null  object\n",
      " 1   id           59305 non-null  int64 \n",
      " 2   user_id      59305 non-null  object\n",
      " 3   items_count  59305 non-null  int64 \n",
      " 4   item_name    59305 non-null  object\n",
      " 5   recommend    59305 non-null  bool  \n",
      "dtypes: bool(1), int64(2), object(3)\n",
      "memory usage: 2.8+ MB\n"
     ]
    }
   ],
   "source": [
    "# Ver info de nueva dataframe\n",
    "df_unido_2.info()  # 59 305 datos"
   ]
  },
  {
   "cell_type": "code",
   "execution_count": 16,
   "metadata": {},
   "outputs": [],
   "source": [
    "# Consulta 3:  usuario horas jugadas por género año de lanzamiento horas de juego acumuladas\n",
    "\n",
    "\n",
    "# Unir de dataframe df_1: genres, year, id; df_3: playtime_forever, user_id\n",
    "\n",
    "\n",
    "df_unido_3 = pd.merge(df_1[[\"genres\", \"year\", \"id\"]],\n",
    "                      df_3[[\"user_id\", \"playtime_forever\"]],\n",
    "                      left_index=True, right_index=True)"
   ]
  },
  {
   "cell_type": "code",
   "execution_count": 17,
   "metadata": {},
   "outputs": [
    {
     "name": "stdout",
     "output_type": "stream",
     "text": [
      "<class 'pandas.core.frame.DataFrame'>\n",
      "Index: 74837 entries, 0 to 74836\n",
      "Data columns (total 5 columns):\n",
      " #   Column            Non-Null Count  Dtype \n",
      "---  ------            --------------  ----- \n",
      " 0   genres            74837 non-null  object\n",
      " 1   year              74837 non-null  object\n",
      " 2   id                74837 non-null  int64 \n",
      " 3   user_id           74837 non-null  object\n",
      " 4   playtime_forever  74837 non-null  int64 \n",
      "dtypes: int64(2), object(3)\n",
      "memory usage: 3.4+ MB\n"
     ]
    }
   ],
   "source": [
    "# Ver info de nueva dataframe\n",
    "df_unido_3.info() # 74 836 datos"
   ]
  },
  {
   "cell_type": "code",
   "execution_count": 18,
   "metadata": {},
   "outputs": [],
   "source": [
    "# Consulta 4:  mejor desarrollador con más juegos recomendados por usuario por año\n",
    "\n",
    "\n",
    "# Unir de dataframe df_1: developer, year, id; df_2: recommend user_id\n",
    "\n",
    "\n",
    "df_unido_4 = pd.merge(df_1[[\"developer\", \"year\", \"id\"]],\n",
    "                      df_2[[\"user_id\", \"recommend\"]],\n",
    "                      left_index=True, right_index=True)"
   ]
  },
  {
   "cell_type": "code",
   "execution_count": 19,
   "metadata": {},
   "outputs": [
    {
     "name": "stdout",
     "output_type": "stream",
     "text": [
      "<class 'pandas.core.frame.DataFrame'>\n",
      "Index: 59305 entries, 0 to 59304\n",
      "Data columns (total 5 columns):\n",
      " #   Column     Non-Null Count  Dtype \n",
      "---  ------     --------------  ----- \n",
      " 0   developer  59305 non-null  object\n",
      " 1   year       59305 non-null  object\n",
      " 2   id         59305 non-null  int64 \n",
      " 3   user_id    59305 non-null  object\n",
      " 4   recommend  59305 non-null  bool  \n",
      "dtypes: bool(1), int64(1), object(3)\n",
      "memory usage: 2.3+ MB\n"
     ]
    }
   ],
   "source": [
    "# Ver info de nueva dataframe\n",
    "df_unido_4.info()              # 59 305 datos"
   ]
  },
  {
   "cell_type": "code",
   "execution_count": 20,
   "metadata": {},
   "outputs": [],
   "source": [
    "# Consulta 5:  desarrollador reseñas positivas o negativas sentiment_analysis\n",
    "\n",
    "\n",
    "# Unir de dataframe df_1: developer, id; df_2: user_id, sentiment_analysis\n",
    "\n",
    "\n",
    "df_unido_5 = pd.merge(df_1[[\"developer\", \"id\"]],\n",
    "                      df_2[[\"user_id\", \"sentiment_analysis\"]],\n",
    "                      left_index=True, right_index=True)"
   ]
  },
  {
   "cell_type": "code",
   "execution_count": 21,
   "metadata": {},
   "outputs": [
    {
     "name": "stdout",
     "output_type": "stream",
     "text": [
      "<class 'pandas.core.frame.DataFrame'>\n",
      "Index: 59305 entries, 0 to 59304\n",
      "Data columns (total 4 columns):\n",
      " #   Column              Non-Null Count  Dtype \n",
      "---  ------              --------------  ----- \n",
      " 0   developer           59305 non-null  object\n",
      " 1   id                  59305 non-null  int64 \n",
      " 2   user_id             59305 non-null  object\n",
      " 3   sentiment_analysis  59305 non-null  int64 \n",
      "dtypes: int64(2), object(2)\n",
      "memory usage: 2.3+ MB\n"
     ]
    }
   ],
   "source": [
    "# Ver info de nueva dataframe\n",
    "df_unido_5.info()    # 59 305 datos"
   ]
  },
  {
   "cell_type": "code",
   "execution_count": 23,
   "metadata": {},
   "outputs": [],
   "source": [
    "# ML01:  coseno de similitud user-item(usuario): id_usuario y 5 juegos recomendados similares\n",
    "\n",
    "# Unir de dataframe df_3: item_name, user_id; df_2: user_id, recommend\n",
    "\n",
    "\n",
    "df_unido_ML01 = pd.merge(df_3[[\"item_name\", \"user_id\"]],\n",
    "                      df_2[[\"recommend\"]],\n",
    "                      left_index=True, right_index=True)"
   ]
  },
  {
   "cell_type": "code",
   "execution_count": 24,
   "metadata": {},
   "outputs": [
    {
     "data": {
      "text/html": [
       "<div>\n",
       "<style scoped>\n",
       "    .dataframe tbody tr th:only-of-type {\n",
       "        vertical-align: middle;\n",
       "    }\n",
       "\n",
       "    .dataframe tbody tr th {\n",
       "        vertical-align: top;\n",
       "    }\n",
       "\n",
       "    .dataframe thead th {\n",
       "        text-align: right;\n",
       "    }\n",
       "</style>\n",
       "<table border=\"1\" class=\"dataframe\">\n",
       "  <thead>\n",
       "    <tr style=\"text-align: right;\">\n",
       "      <th></th>\n",
       "      <th>item_name</th>\n",
       "      <th>user_id</th>\n",
       "      <th>recommend</th>\n",
       "    </tr>\n",
       "  </thead>\n",
       "  <tbody>\n",
       "    <tr>\n",
       "      <th>0</th>\n",
       "      <td>Counter-Strike</td>\n",
       "      <td>76561197970982479</td>\n",
       "      <td>True</td>\n",
       "    </tr>\n",
       "    <tr>\n",
       "      <th>1</th>\n",
       "      <td>Team Fortress Classic</td>\n",
       "      <td>76561197970982479</td>\n",
       "      <td>True</td>\n",
       "    </tr>\n",
       "    <tr>\n",
       "      <th>2</th>\n",
       "      <td>Day of Defeat</td>\n",
       "      <td>76561197970982479</td>\n",
       "      <td>True</td>\n",
       "    </tr>\n",
       "    <tr>\n",
       "      <th>3</th>\n",
       "      <td>Deathmatch Classic</td>\n",
       "      <td>76561197970982479</td>\n",
       "      <td>True</td>\n",
       "    </tr>\n",
       "    <tr>\n",
       "      <th>4</th>\n",
       "      <td>Half-Life: Opposing Force</td>\n",
       "      <td>76561197970982479</td>\n",
       "      <td>True</td>\n",
       "    </tr>\n",
       "    <tr>\n",
       "      <th>...</th>\n",
       "      <td>...</td>\n",
       "      <td>...</td>\n",
       "      <td>...</td>\n",
       "    </tr>\n",
       "    <tr>\n",
       "      <th>59300</th>\n",
       "      <td>Shadow Warrior</td>\n",
       "      <td>scroopy22</td>\n",
       "      <td>True</td>\n",
       "    </tr>\n",
       "    <tr>\n",
       "      <th>59301</th>\n",
       "      <td>Viscera Cleanup Detail: Shadow Warrior</td>\n",
       "      <td>scroopy22</td>\n",
       "      <td>True</td>\n",
       "    </tr>\n",
       "    <tr>\n",
       "      <th>59302</th>\n",
       "      <td>Ring Runner: Flight of the Sages</td>\n",
       "      <td>scroopy22</td>\n",
       "      <td>True</td>\n",
       "    </tr>\n",
       "    <tr>\n",
       "      <th>59303</th>\n",
       "      <td>Clickr</td>\n",
       "      <td>scroopy22</td>\n",
       "      <td>True</td>\n",
       "    </tr>\n",
       "    <tr>\n",
       "      <th>59304</th>\n",
       "      <td>Borderlands 2</td>\n",
       "      <td>scroopy22</td>\n",
       "      <td>True</td>\n",
       "    </tr>\n",
       "  </tbody>\n",
       "</table>\n",
       "<p>59305 rows × 3 columns</p>\n",
       "</div>"
      ],
      "text/plain": [
       "                                    item_name            user_id  recommend\n",
       "0                              Counter-Strike  76561197970982479       True\n",
       "1                       Team Fortress Classic  76561197970982479       True\n",
       "2                               Day of Defeat  76561197970982479       True\n",
       "3                          Deathmatch Classic  76561197970982479       True\n",
       "4                   Half-Life: Opposing Force  76561197970982479       True\n",
       "...                                       ...                ...        ...\n",
       "59300                          Shadow Warrior          scroopy22       True\n",
       "59301  Viscera Cleanup Detail: Shadow Warrior          scroopy22       True\n",
       "59302        Ring Runner: Flight of the Sages          scroopy22       True\n",
       "59303                                  Clickr          scroopy22       True\n",
       "59304                           Borderlands 2          scroopy22       True\n",
       "\n",
       "[59305 rows x 3 columns]"
      ]
     },
     "execution_count": 24,
     "metadata": {},
     "output_type": "execute_result"
    }
   ],
   "source": [
    "# Ver info de nueva dataframe\n",
    "df_unido_ML01             # 59 304 datos"
   ]
  },
  {
   "cell_type": "code",
   "execution_count": 25,
   "metadata": {},
   "outputs": [],
   "source": [
    "# Reducimos el data por una cuestión de espacio, pero sin que afecte la calidad de los datos\n",
    "df_modelo5 = df_unido_ML01.sample(frac=0.05, random_state=1)"
   ]
  },
  {
   "cell_type": "code",
   "execution_count": 26,
   "metadata": {},
   "outputs": [
    {
     "data": {
      "text/html": [
       "<div>\n",
       "<style scoped>\n",
       "    .dataframe tbody tr th:only-of-type {\n",
       "        vertical-align: middle;\n",
       "    }\n",
       "\n",
       "    .dataframe tbody tr th {\n",
       "        vertical-align: top;\n",
       "    }\n",
       "\n",
       "    .dataframe thead th {\n",
       "        text-align: right;\n",
       "    }\n",
       "</style>\n",
       "<table border=\"1\" class=\"dataframe\">\n",
       "  <thead>\n",
       "    <tr style=\"text-align: right;\">\n",
       "      <th></th>\n",
       "      <th>item_name</th>\n",
       "      <th>user_id</th>\n",
       "      <th>recommend</th>\n",
       "    </tr>\n",
       "  </thead>\n",
       "  <tbody>\n",
       "    <tr>\n",
       "      <th>17279</th>\n",
       "      <td>Counter-Strike: Global Offensive</td>\n",
       "      <td>76561198092244787</td>\n",
       "      <td>True</td>\n",
       "    </tr>\n",
       "    <tr>\n",
       "      <th>209</th>\n",
       "      <td>PAYDAY 2</td>\n",
       "      <td>76561197970982479</td>\n",
       "      <td>True</td>\n",
       "    </tr>\n",
       "    <tr>\n",
       "      <th>39038</th>\n",
       "      <td>Theatre of War 2: Africa 1943</td>\n",
       "      <td>acorn13</td>\n",
       "      <td>False</td>\n",
       "    </tr>\n",
       "    <tr>\n",
       "      <th>36188</th>\n",
       "      <td>Project Zomboid</td>\n",
       "      <td>diabeticfuck</td>\n",
       "      <td>True</td>\n",
       "    </tr>\n",
       "    <tr>\n",
       "      <th>43868</th>\n",
       "      <td>The Bureau: XCOM Declassified</td>\n",
       "      <td>maxpaynepillkiller</td>\n",
       "      <td>False</td>\n",
       "    </tr>\n",
       "    <tr>\n",
       "      <th>...</th>\n",
       "      <td>...</td>\n",
       "      <td>...</td>\n",
       "      <td>...</td>\n",
       "    </tr>\n",
       "    <tr>\n",
       "      <th>37744</th>\n",
       "      <td>Duke Nukem 3D: Megaton Edition</td>\n",
       "      <td>LightfootSword7</td>\n",
       "      <td>True</td>\n",
       "    </tr>\n",
       "    <tr>\n",
       "      <th>19473</th>\n",
       "      <td>LYNE</td>\n",
       "      <td>Magjiikal</td>\n",
       "      <td>True</td>\n",
       "    </tr>\n",
       "    <tr>\n",
       "      <th>51991</th>\n",
       "      <td>Prison Architect</td>\n",
       "      <td>benjamin27</td>\n",
       "      <td>True</td>\n",
       "    </tr>\n",
       "    <tr>\n",
       "      <th>58929</th>\n",
       "      <td>Tomb Raider (VI): The Angel of Darkness</td>\n",
       "      <td>76561198083375450</td>\n",
       "      <td>True</td>\n",
       "    </tr>\n",
       "    <tr>\n",
       "      <th>39055</th>\n",
       "      <td>Chantelise</td>\n",
       "      <td>acorn13</td>\n",
       "      <td>True</td>\n",
       "    </tr>\n",
       "  </tbody>\n",
       "</table>\n",
       "<p>2965 rows × 3 columns</p>\n",
       "</div>"
      ],
      "text/plain": [
       "                                     item_name             user_id  recommend\n",
       "17279         Counter-Strike: Global Offensive   76561198092244787       True\n",
       "209                                   PAYDAY 2   76561197970982479       True\n",
       "39038            Theatre of War 2: Africa 1943             acorn13      False\n",
       "36188                          Project Zomboid        diabeticfuck       True\n",
       "43868            The Bureau: XCOM Declassified  maxpaynepillkiller      False\n",
       "...                                        ...                 ...        ...\n",
       "37744           Duke Nukem 3D: Megaton Edition     LightfootSword7       True\n",
       "19473                                     LYNE           Magjiikal       True\n",
       "51991                         Prison Architect          benjamin27       True\n",
       "58929  Tomb Raider (VI): The Angel of Darkness   76561198083375450       True\n",
       "39055                               Chantelise             acorn13       True\n",
       "\n",
       "[2965 rows x 3 columns]"
      ]
     },
     "execution_count": 26,
     "metadata": {},
     "output_type": "execute_result"
    }
   ],
   "source": [
    "df_modelo5 # 2965 datos"
   ]
  },
  {
   "cell_type": "code",
   "execution_count": 27,
   "metadata": {},
   "outputs": [],
   "source": [
    "# ML02:  coseno de similitud item-item(producto): id_producto y 5 juegos recomendados similares\n",
    "\n",
    "# Unir de dataframe df_3: user_id, item_id, item_name; df_2: user_id recommend item_id\n",
    "\n",
    "\n",
    "df_unido_ML02 = pd.merge(df_3[[\"item_id\", \"item_name\", \"user_id\"]],\n",
    "                      df_2[[\"recommend\"]],\n",
    "                      left_index=True, right_index=True)"
   ]
  },
  {
   "cell_type": "code",
   "execution_count": 28,
   "metadata": {},
   "outputs": [
    {
     "name": "stdout",
     "output_type": "stream",
     "text": [
      "<class 'pandas.core.frame.DataFrame'>\n",
      "Index: 59305 entries, 0 to 59304\n",
      "Data columns (total 4 columns):\n",
      " #   Column     Non-Null Count  Dtype \n",
      "---  ------     --------------  ----- \n",
      " 0   item_id    59305 non-null  int64 \n",
      " 1   item_name  59305 non-null  object\n",
      " 2   user_id    59305 non-null  object\n",
      " 3   recommend  59305 non-null  bool  \n",
      "dtypes: bool(1), int64(1), object(2)\n",
      "memory usage: 1.9+ MB\n"
     ]
    }
   ],
   "source": [
    "# Ver info de nueva dataframe\n",
    "df_unido_ML02.info()      #    59 305 datos"
   ]
  },
  {
   "cell_type": "code",
   "execution_count": 29,
   "metadata": {},
   "outputs": [],
   "source": [
    "# Reducimos el data por una cuestión de espacio, pero sin que afecte la calidad de los datos\n",
    "df_modelo5_ML02 = df_unido_ML02.sample(frac=0.05, random_state=1)"
   ]
  },
  {
   "cell_type": "code",
   "execution_count": 30,
   "metadata": {},
   "outputs": [
    {
     "data": {
      "text/html": [
       "<div>\n",
       "<style scoped>\n",
       "    .dataframe tbody tr th:only-of-type {\n",
       "        vertical-align: middle;\n",
       "    }\n",
       "\n",
       "    .dataframe tbody tr th {\n",
       "        vertical-align: top;\n",
       "    }\n",
       "\n",
       "    .dataframe thead th {\n",
       "        text-align: right;\n",
       "    }\n",
       "</style>\n",
       "<table border=\"1\" class=\"dataframe\">\n",
       "  <thead>\n",
       "    <tr style=\"text-align: right;\">\n",
       "      <th></th>\n",
       "      <th>item_id</th>\n",
       "      <th>item_name</th>\n",
       "      <th>user_id</th>\n",
       "      <th>recommend</th>\n",
       "    </tr>\n",
       "  </thead>\n",
       "  <tbody>\n",
       "    <tr>\n",
       "      <th>17279</th>\n",
       "      <td>730</td>\n",
       "      <td>Counter-Strike: Global Offensive</td>\n",
       "      <td>76561198092244787</td>\n",
       "      <td>True</td>\n",
       "    </tr>\n",
       "    <tr>\n",
       "      <th>209</th>\n",
       "      <td>218620</td>\n",
       "      <td>PAYDAY 2</td>\n",
       "      <td>76561197970982479</td>\n",
       "      <td>True</td>\n",
       "    </tr>\n",
       "    <tr>\n",
       "      <th>39038</th>\n",
       "      <td>46340</td>\n",
       "      <td>Theatre of War 2: Africa 1943</td>\n",
       "      <td>acorn13</td>\n",
       "      <td>False</td>\n",
       "    </tr>\n",
       "    <tr>\n",
       "      <th>36188</th>\n",
       "      <td>108600</td>\n",
       "      <td>Project Zomboid</td>\n",
       "      <td>diabeticfuck</td>\n",
       "      <td>True</td>\n",
       "    </tr>\n",
       "    <tr>\n",
       "      <th>43868</th>\n",
       "      <td>65930</td>\n",
       "      <td>The Bureau: XCOM Declassified</td>\n",
       "      <td>maxpaynepillkiller</td>\n",
       "      <td>False</td>\n",
       "    </tr>\n",
       "    <tr>\n",
       "      <th>...</th>\n",
       "      <td>...</td>\n",
       "      <td>...</td>\n",
       "      <td>...</td>\n",
       "      <td>...</td>\n",
       "    </tr>\n",
       "    <tr>\n",
       "      <th>37744</th>\n",
       "      <td>225140</td>\n",
       "      <td>Duke Nukem 3D: Megaton Edition</td>\n",
       "      <td>LightfootSword7</td>\n",
       "      <td>True</td>\n",
       "    </tr>\n",
       "    <tr>\n",
       "      <th>19473</th>\n",
       "      <td>266010</td>\n",
       "      <td>LYNE</td>\n",
       "      <td>Magjiikal</td>\n",
       "      <td>True</td>\n",
       "    </tr>\n",
       "    <tr>\n",
       "      <th>51991</th>\n",
       "      <td>233450</td>\n",
       "      <td>Prison Architect</td>\n",
       "      <td>benjamin27</td>\n",
       "      <td>True</td>\n",
       "    </tr>\n",
       "    <tr>\n",
       "      <th>58929</th>\n",
       "      <td>225020</td>\n",
       "      <td>Tomb Raider (VI): The Angel of Darkness</td>\n",
       "      <td>76561198083375450</td>\n",
       "      <td>True</td>\n",
       "    </tr>\n",
       "    <tr>\n",
       "      <th>39055</th>\n",
       "      <td>70420</td>\n",
       "      <td>Chantelise</td>\n",
       "      <td>acorn13</td>\n",
       "      <td>True</td>\n",
       "    </tr>\n",
       "  </tbody>\n",
       "</table>\n",
       "<p>2965 rows × 4 columns</p>\n",
       "</div>"
      ],
      "text/plain": [
       "       item_id                                item_name             user_id  \\\n",
       "17279      730         Counter-Strike: Global Offensive   76561198092244787   \n",
       "209     218620                                 PAYDAY 2   76561197970982479   \n",
       "39038    46340            Theatre of War 2: Africa 1943             acorn13   \n",
       "36188   108600                          Project Zomboid        diabeticfuck   \n",
       "43868    65930            The Bureau: XCOM Declassified  maxpaynepillkiller   \n",
       "...        ...                                      ...                 ...   \n",
       "37744   225140           Duke Nukem 3D: Megaton Edition     LightfootSword7   \n",
       "19473   266010                                     LYNE           Magjiikal   \n",
       "51991   233450                         Prison Architect          benjamin27   \n",
       "58929   225020  Tomb Raider (VI): The Angel of Darkness   76561198083375450   \n",
       "39055    70420                               Chantelise             acorn13   \n",
       "\n",
       "       recommend  \n",
       "17279       True  \n",
       "209         True  \n",
       "39038      False  \n",
       "36188       True  \n",
       "43868      False  \n",
       "...          ...  \n",
       "37744       True  \n",
       "19473       True  \n",
       "51991       True  \n",
       "58929       True  \n",
       "39055       True  \n",
       "\n",
       "[2965 rows x 4 columns]"
      ]
     },
     "execution_count": 30,
     "metadata": {},
     "output_type": "execute_result"
    }
   ],
   "source": [
    "df_modelo5_ML02 # 2965 datos"
   ]
  },
  {
   "cell_type": "code",
   "execution_count": 31,
   "metadata": {},
   "outputs": [],
   "source": [
    "# Guardar dfs para consultas en .csv\n",
    "df_unido_1.to_csv(\"df_unido_1.csv\", index=False)\n",
    "df_unido_2.to_csv(\"df_unido_2.csv\", index=False)\n",
    "df_unido_3.to_csv(\"df_unido_3.csv\", index=False)\n",
    "df_unido_4.to_csv(\"df_unido_4.csv\", index=False)\n",
    "df_unido_5.to_csv(\"df_unido_5.csv\", index=False)\n",
    "\n",
    "df_modelo5.to_csv(\"df_unido_ML01.csv\", index=False)\n",
    "df_modelo5_ML02.to_csv(\"df_unido_ML02.csv\", index=False)"
   ]
  }
 ],
 "metadata": {
  "kernelspec": {
   "display_name": "base",
   "language": "python",
   "name": "python3"
  },
  "language_info": {
   "codemirror_mode": {
    "name": "ipython",
    "version": 3
   },
   "file_extension": ".py",
   "mimetype": "text/x-python",
   "name": "python",
   "nbconvert_exporter": "python",
   "pygments_lexer": "ipython3",
   "version": "3.11.5"
  }
 },
 "nbformat": 4,
 "nbformat_minor": 2
}
