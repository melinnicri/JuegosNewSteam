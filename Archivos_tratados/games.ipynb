{
 "cells": [
  {
   "cell_type": "markdown",
   "metadata": {},
   "source": [
    "# Tratamiento de archivo Games:"
   ]
  },
  {
   "cell_type": "markdown",
   "metadata": {},
   "source": [
    "# Escoger las columnas a trabajar (de acuerdo a las consultas):\n",
    "\n",
    "genres, app_name, title, release_date, price, id, developer"
   ]
  },
  {
   "cell_type": "markdown",
   "metadata": {},
   "source": [
    "# Pedido:\n",
    "Reviews: sentiment analysis: \n",
    "'0' si es malo, \n",
    "'1' si es neutral y \n",
    "'2' si es positivo. \n",
    "Si ausente la reseña escrita, debe tomar el valor de 1.\n",
    "\n",
    "developer\n",
    "contenido free en %\n",
    "año\n",
    "cant items\n",
    "\n",
    "user_id\n",
    "dinero gastado\n",
    "recomendación en %\n",
    "cant de items\n",
    "\n",
    "usuario\n",
    "horas jugadas por género\n",
    "año de lanzamiento\n",
    "horas de juego acumuladas\n",
    "\n",
    "\n",
    "mejor desarrollador\n",
    "con más juegos recomendados\n",
    "por usuario\n",
    "por año\n",
    "\n",
    "desarrollador \n",
    "reseñas positivas o negativas\n",
    "\n",
    "ml: coseno de similitud\n",
    "user-item(usuario): id_usuario y 5 juegos recomendados similares\n",
    "item-item(producto): id_producto y 5 juegos recomendados similares\n"
   ]
  },
  {
   "cell_type": "code",
   "execution_count": 104,
   "metadata": {},
   "outputs": [],
   "source": [
    "# Importar librerías Python 3.11.5\n",
    "import gzip\n",
    "import pandas as pd\n",
    "import json\n",
    "import numpy as np\n",
    "import os\n",
    "import ast\n",
    "import matplotlib.pyplot as plt\n"
   ]
  },
  {
   "cell_type": "code",
   "execution_count": 105,
   "metadata": {},
   "outputs": [],
   "source": [
    "# Cómo abrir un archivo .json desde un comprimido gzip:\n",
    "data = []\n",
    "with gzip.open(\"steam_games.json.gz\", \"rb\") as f:\n",
    "    for line in f:\n",
    "        data.append(json.loads(line))"
   ]
  },
  {
   "cell_type": "code",
   "execution_count": 106,
   "metadata": {},
   "outputs": [],
   "source": [
    "# Dejarlo como DataFrame:\n",
    "df = pd.DataFrame(data)"
   ]
  },
  {
   "cell_type": "code",
   "execution_count": 107,
   "metadata": {},
   "outputs": [
    {
     "name": "stdout",
     "output_type": "stream",
     "text": [
      "<class 'pandas.core.frame.DataFrame'>\n",
      "RangeIndex: 120445 entries, 0 to 120444\n",
      "Data columns (total 13 columns):\n",
      " #   Column        Non-Null Count  Dtype \n",
      "---  ------        --------------  ----- \n",
      " 0   publisher     24083 non-null  object\n",
      " 1   genres        28852 non-null  object\n",
      " 2   app_name      32133 non-null  object\n",
      " 3   title         30085 non-null  object\n",
      " 4   url           32135 non-null  object\n",
      " 5   release_date  30068 non-null  object\n",
      " 6   tags          31972 non-null  object\n",
      " 7   reviews_url   32133 non-null  object\n",
      " 8   specs         31465 non-null  object\n",
      " 9   price         30758 non-null  object\n",
      " 10  early_access  32135 non-null  object\n",
      " 11  id            32133 non-null  object\n",
      " 12  developer     28836 non-null  object\n",
      "dtypes: object(13)\n",
      "memory usage: 11.9+ MB\n"
     ]
    }
   ],
   "source": [
    "# Info de la dataframe:\n",
    "df.info()"
   ]
  },
  {
   "cell_type": "markdown",
   "metadata": {},
   "source": [
    "ETL: nulos y duplicados:"
   ]
  },
  {
   "cell_type": "code",
   "execution_count": 108,
   "metadata": {},
   "outputs": [
    {
     "name": "stdout",
     "output_type": "stream",
     "text": [
      "Total de valores nulos: 1168997\n",
      "\n",
      "Valores nulos por columna:\n",
      "publisher       96362\n",
      "genres          91593\n",
      "app_name        88312\n",
      "title           90360\n",
      "url             88310\n",
      "release_date    90377\n",
      "tags            88473\n",
      "reviews_url     88312\n",
      "specs           88980\n",
      "price           89687\n",
      "early_access    88310\n",
      "id              88312\n",
      "developer       91609\n",
      "dtype: int64\n"
     ]
    }
   ],
   "source": [
    "# Arreglar datos, ETL, desde ya (evitar problemas con los NaNs):\n",
    "# Cuántos nulos existen en la data?:  88311 filas sin datos\n",
    "valores_nulos_por_columna = df.isnull().sum()\n",
    "total_valores_nulos = valores_nulos_por_columna.sum()\n",
    "\n",
    "print(\"Total de valores nulos:\", total_valores_nulos)\n",
    "print(\"\\nValores nulos por columna:\")\n",
    "print(valores_nulos_por_columna)"
   ]
  },
  {
   "cell_type": "code",
   "execution_count": 109,
   "metadata": {},
   "outputs": [],
   "source": [
    "# Borramos las celdas con NaNs (más de tres, 88 mil NaNs celdas completas)\n",
    "df = df.dropna(thresh=3)"
   ]
  },
  {
   "cell_type": "code",
   "execution_count": 110,
   "metadata": {},
   "outputs": [],
   "source": [
    "# Crear una nueva dataframe con genres, app_name, title, release_date, price, id, developer:\n",
    "df_games = df[[\"genres\", \"app_name\", \"title\", \"release_date\", \"price\", \"id\", \"developer\"]]"
   ]
  },
  {
   "cell_type": "code",
   "execution_count": 111,
   "metadata": {},
   "outputs": [],
   "source": [
    "# Se abre la columna genres:\n",
    "df_exploded = df_games.explode(\"genres\")"
   ]
  },
  {
   "cell_type": "code",
   "execution_count": 112,
   "metadata": {},
   "outputs": [
    {
     "data": {
      "text/html": [
       "<div>\n",
       "<style scoped>\n",
       "    .dataframe tbody tr th:only-of-type {\n",
       "        vertical-align: middle;\n",
       "    }\n",
       "\n",
       "    .dataframe tbody tr th {\n",
       "        vertical-align: top;\n",
       "    }\n",
       "\n",
       "    .dataframe thead th {\n",
       "        text-align: right;\n",
       "    }\n",
       "</style>\n",
       "<table border=\"1\" class=\"dataframe\">\n",
       "  <thead>\n",
       "    <tr style=\"text-align: right;\">\n",
       "      <th></th>\n",
       "      <th>genres</th>\n",
       "      <th>app_name</th>\n",
       "      <th>title</th>\n",
       "      <th>release_date</th>\n",
       "      <th>price</th>\n",
       "      <th>id</th>\n",
       "      <th>developer</th>\n",
       "    </tr>\n",
       "  </thead>\n",
       "  <tbody>\n",
       "    <tr>\n",
       "      <th>88310</th>\n",
       "      <td>Action</td>\n",
       "      <td>Lost Summoner Kitty</td>\n",
       "      <td>Lost Summoner Kitty</td>\n",
       "      <td>2018-01-04</td>\n",
       "      <td>4.99</td>\n",
       "      <td>761140</td>\n",
       "      <td>Kotoshiro</td>\n",
       "    </tr>\n",
       "    <tr>\n",
       "      <th>88310</th>\n",
       "      <td>Casual</td>\n",
       "      <td>Lost Summoner Kitty</td>\n",
       "      <td>Lost Summoner Kitty</td>\n",
       "      <td>2018-01-04</td>\n",
       "      <td>4.99</td>\n",
       "      <td>761140</td>\n",
       "      <td>Kotoshiro</td>\n",
       "    </tr>\n",
       "    <tr>\n",
       "      <th>88310</th>\n",
       "      <td>Indie</td>\n",
       "      <td>Lost Summoner Kitty</td>\n",
       "      <td>Lost Summoner Kitty</td>\n",
       "      <td>2018-01-04</td>\n",
       "      <td>4.99</td>\n",
       "      <td>761140</td>\n",
       "      <td>Kotoshiro</td>\n",
       "    </tr>\n",
       "    <tr>\n",
       "      <th>88310</th>\n",
       "      <td>Simulation</td>\n",
       "      <td>Lost Summoner Kitty</td>\n",
       "      <td>Lost Summoner Kitty</td>\n",
       "      <td>2018-01-04</td>\n",
       "      <td>4.99</td>\n",
       "      <td>761140</td>\n",
       "      <td>Kotoshiro</td>\n",
       "    </tr>\n",
       "    <tr>\n",
       "      <th>88310</th>\n",
       "      <td>Strategy</td>\n",
       "      <td>Lost Summoner Kitty</td>\n",
       "      <td>Lost Summoner Kitty</td>\n",
       "      <td>2018-01-04</td>\n",
       "      <td>4.99</td>\n",
       "      <td>761140</td>\n",
       "      <td>Kotoshiro</td>\n",
       "    </tr>\n",
       "    <tr>\n",
       "      <th>...</th>\n",
       "      <td>...</td>\n",
       "      <td>...</td>\n",
       "      <td>...</td>\n",
       "      <td>...</td>\n",
       "      <td>...</td>\n",
       "      <td>...</td>\n",
       "      <td>...</td>\n",
       "    </tr>\n",
       "    <tr>\n",
       "      <th>120442</th>\n",
       "      <td>Racing</td>\n",
       "      <td>Russian Roads</td>\n",
       "      <td>Russian Roads</td>\n",
       "      <td>2018-01-04</td>\n",
       "      <td>1.99</td>\n",
       "      <td>610660</td>\n",
       "      <td>Laush Dmitriy Sergeevich</td>\n",
       "    </tr>\n",
       "    <tr>\n",
       "      <th>120442</th>\n",
       "      <td>Simulation</td>\n",
       "      <td>Russian Roads</td>\n",
       "      <td>Russian Roads</td>\n",
       "      <td>2018-01-04</td>\n",
       "      <td>1.99</td>\n",
       "      <td>610660</td>\n",
       "      <td>Laush Dmitriy Sergeevich</td>\n",
       "    </tr>\n",
       "    <tr>\n",
       "      <th>120443</th>\n",
       "      <td>Casual</td>\n",
       "      <td>EXIT 2 - Directions</td>\n",
       "      <td>EXIT 2 - Directions</td>\n",
       "      <td>2017-09-02</td>\n",
       "      <td>4.99</td>\n",
       "      <td>658870</td>\n",
       "      <td>xropi,stev3ns</td>\n",
       "    </tr>\n",
       "    <tr>\n",
       "      <th>120443</th>\n",
       "      <td>Indie</td>\n",
       "      <td>EXIT 2 - Directions</td>\n",
       "      <td>EXIT 2 - Directions</td>\n",
       "      <td>2017-09-02</td>\n",
       "      <td>4.99</td>\n",
       "      <td>658870</td>\n",
       "      <td>xropi,stev3ns</td>\n",
       "    </tr>\n",
       "    <tr>\n",
       "      <th>120444</th>\n",
       "      <td>NaN</td>\n",
       "      <td>Maze Run VR</td>\n",
       "      <td>NaN</td>\n",
       "      <td>NaN</td>\n",
       "      <td>4.99</td>\n",
       "      <td>681550</td>\n",
       "      <td>NaN</td>\n",
       "    </tr>\n",
       "  </tbody>\n",
       "</table>\n",
       "<p>74837 rows × 7 columns</p>\n",
       "</div>"
      ],
      "text/plain": [
       "            genres             app_name                title release_date  \\\n",
       "88310       Action  Lost Summoner Kitty  Lost Summoner Kitty   2018-01-04   \n",
       "88310       Casual  Lost Summoner Kitty  Lost Summoner Kitty   2018-01-04   \n",
       "88310        Indie  Lost Summoner Kitty  Lost Summoner Kitty   2018-01-04   \n",
       "88310   Simulation  Lost Summoner Kitty  Lost Summoner Kitty   2018-01-04   \n",
       "88310     Strategy  Lost Summoner Kitty  Lost Summoner Kitty   2018-01-04   \n",
       "...            ...                  ...                  ...          ...   \n",
       "120442      Racing        Russian Roads        Russian Roads   2018-01-04   \n",
       "120442  Simulation        Russian Roads        Russian Roads   2018-01-04   \n",
       "120443      Casual  EXIT 2 - Directions  EXIT 2 - Directions   2017-09-02   \n",
       "120443       Indie  EXIT 2 - Directions  EXIT 2 - Directions   2017-09-02   \n",
       "120444         NaN          Maze Run VR                  NaN          NaN   \n",
       "\n",
       "       price      id                 developer  \n",
       "88310   4.99  761140                 Kotoshiro  \n",
       "88310   4.99  761140                 Kotoshiro  \n",
       "88310   4.99  761140                 Kotoshiro  \n",
       "88310   4.99  761140                 Kotoshiro  \n",
       "88310   4.99  761140                 Kotoshiro  \n",
       "...      ...     ...                       ...  \n",
       "120442  1.99  610660  Laush Dmitriy Sergeevich  \n",
       "120442  1.99  610660  Laush Dmitriy Sergeevich  \n",
       "120443  4.99  658870             xropi,stev3ns  \n",
       "120443  4.99  658870             xropi,stev3ns  \n",
       "120444  4.99  681550                       NaN  \n",
       "\n",
       "[74837 rows x 7 columns]"
      ]
     },
     "execution_count": 112,
     "metadata": {},
     "output_type": "execute_result"
    }
   ],
   "source": [
    "df_exploded"
   ]
  },
  {
   "cell_type": "code",
   "execution_count": 113,
   "metadata": {},
   "outputs": [],
   "source": [
    "# Separar columna release_date en tres nuevas columnas:\n",
    "df_exploded[\"year\"] = df_exploded[\"release_date\"].str[:4]\n",
    "df_exploded[\"month\"] = df_exploded[\"release_date\"].str[5:7]\n",
    "df_exploded[\"day\"] = df_exploded[\"release_date\"].str[8:10]"
   ]
  },
  {
   "cell_type": "code",
   "execution_count": 114,
   "metadata": {},
   "outputs": [],
   "source": [
    "# Reemplazar nulos por 0 en las nuevas columnas:\n",
    "df_exploded[\"year\"].fillna(0, inplace=True)\n",
    "df_exploded[\"month\"].fillna(0, inplace=True)\n",
    "df_exploded[\"day\"].fillna(0, inplace=True)\n",
    "df_exploded[\"genres\"].fillna(0, inplace=True)"
   ]
  },
  {
   "cell_type": "code",
   "execution_count": 115,
   "metadata": {},
   "outputs": [
    {
     "name": "stdout",
     "output_type": "stream",
     "text": [
      "Total de valores nulos: 10984\n",
      "\n",
      "Valores nulos por columna:\n",
      "genres             0\n",
      "app_name           3\n",
      "title           2051\n",
      "release_date    2102\n",
      "price           3346\n",
      "id                 3\n",
      "developer       3479\n",
      "year               0\n",
      "month              0\n",
      "day                0\n",
      "dtype: int64\n"
     ]
    }
   ],
   "source": [
    "# Cuántos nulos existen en la data posterior al cambio?:\n",
    "valores_nulos_por_columna = df_exploded.isnull().sum()\n",
    "total_valores_nulos = valores_nulos_por_columna.sum()\n",
    "\n",
    "print(\"Total de valores nulos:\", total_valores_nulos)\n",
    "print(\"\\nValores nulos por columna:\")\n",
    "print(valores_nulos_por_columna)"
   ]
  },
  {
   "cell_type": "code",
   "execution_count": 116,
   "metadata": {},
   "outputs": [],
   "source": [
    "# Borrar columna release_year\n",
    "df_borrada = df_exploded.drop(\"release_date\", axis=1)  # 'axis=1' indicates columna borrada"
   ]
  },
  {
   "cell_type": "code",
   "execution_count": 117,
   "metadata": {},
   "outputs": [],
   "source": [
    "# Reemplazar nulos por 0 en columna id:\n",
    "df_borrada['id'].fillna(0, inplace=True)"
   ]
  },
  {
   "cell_type": "code",
   "execution_count": 118,
   "metadata": {},
   "outputs": [],
   "source": [
    "# Crear una copia del DataFrame original antes de realizar cambios\n",
    "data_copia = df_borrada.copy()"
   ]
  },
  {
   "cell_type": "code",
   "execution_count": 119,
   "metadata": {},
   "outputs": [],
   "source": [
    "# Se filtran los tres nulos en id, que fueron cambiados con 0\n",
    "df_nulos_borrados = data_copia[data_copia['id'] == 0]"
   ]
  },
  {
   "cell_type": "code",
   "execution_count": 120,
   "metadata": {},
   "outputs": [
    {
     "data": {
      "text/html": [
       "<div>\n",
       "<style scoped>\n",
       "    .dataframe tbody tr th:only-of-type {\n",
       "        vertical-align: middle;\n",
       "    }\n",
       "\n",
       "    .dataframe tbody tr th {\n",
       "        vertical-align: top;\n",
       "    }\n",
       "\n",
       "    .dataframe thead th {\n",
       "        text-align: right;\n",
       "    }\n",
       "</style>\n",
       "<table border=\"1\" class=\"dataframe\">\n",
       "  <thead>\n",
       "    <tr style=\"text-align: right;\">\n",
       "      <th></th>\n",
       "      <th>genres</th>\n",
       "      <th>app_name</th>\n",
       "      <th>title</th>\n",
       "      <th>price</th>\n",
       "      <th>id</th>\n",
       "      <th>developer</th>\n",
       "      <th>year</th>\n",
       "      <th>month</th>\n",
       "      <th>day</th>\n",
       "    </tr>\n",
       "  </thead>\n",
       "  <tbody>\n",
       "    <tr>\n",
       "      <th>88384</th>\n",
       "      <td>0</td>\n",
       "      <td>NaN</td>\n",
       "      <td>NaN</td>\n",
       "      <td>19.99</td>\n",
       "      <td>0</td>\n",
       "      <td>NaN</td>\n",
       "      <td>0</td>\n",
       "      <td>0</td>\n",
       "      <td>0</td>\n",
       "    </tr>\n",
       "    <tr>\n",
       "      <th>119271</th>\n",
       "      <td>Action</td>\n",
       "      <td>Batman: Arkham City - Game of the Year Edition</td>\n",
       "      <td>Batman: Arkham City - Game of the Year Edition</td>\n",
       "      <td>19.99</td>\n",
       "      <td>0</td>\n",
       "      <td>Rocksteady Studios,Feral Interactive (Mac)</td>\n",
       "      <td>2012</td>\n",
       "      <td>09</td>\n",
       "      <td>07</td>\n",
       "    </tr>\n",
       "    <tr>\n",
       "      <th>119271</th>\n",
       "      <td>Adventure</td>\n",
       "      <td>Batman: Arkham City - Game of the Year Edition</td>\n",
       "      <td>Batman: Arkham City - Game of the Year Edition</td>\n",
       "      <td>19.99</td>\n",
       "      <td>0</td>\n",
       "      <td>Rocksteady Studios,Feral Interactive (Mac)</td>\n",
       "      <td>2012</td>\n",
       "      <td>09</td>\n",
       "      <td>07</td>\n",
       "    </tr>\n",
       "  </tbody>\n",
       "</table>\n",
       "</div>"
      ],
      "text/plain": [
       "           genres                                        app_name  \\\n",
       "88384           0                                             NaN   \n",
       "119271     Action  Batman: Arkham City - Game of the Year Edition   \n",
       "119271  Adventure  Batman: Arkham City - Game of the Year Edition   \n",
       "\n",
       "                                                 title  price id  \\\n",
       "88384                                              NaN  19.99  0   \n",
       "119271  Batman: Arkham City - Game of the Year Edition  19.99  0   \n",
       "119271  Batman: Arkham City - Game of the Year Edition  19.99  0   \n",
       "\n",
       "                                         developer  year month day  \n",
       "88384                                          NaN     0     0   0  \n",
       "119271  Rocksteady Studios,Feral Interactive (Mac)  2012    09  07  \n",
       "119271  Rocksteady Studios,Feral Interactive (Mac)  2012    09  07  "
      ]
     },
     "execution_count": 120,
     "metadata": {},
     "output_type": "execute_result"
    }
   ],
   "source": [
    "# Se verifica que hay un índice 88384 que no tiene información, por lo que se procede a borrar y como no hay más id = 0, se deja tal cual:\n",
    "df_nulos_borrados"
   ]
  },
  {
   "cell_type": "code",
   "execution_count": 121,
   "metadata": {},
   "outputs": [
    {
     "name": "stderr",
     "output_type": "stream",
     "text": [
      "C:\\Users\\56988\\AppData\\Local\\Temp\\ipykernel_8136\\1828303241.py:2: SettingWithCopyWarning: \n",
      "A value is trying to be set on a copy of a slice from a DataFrame\n",
      "\n",
      "See the caveats in the documentation: https://pandas.pydata.org/pandas-docs/stable/user_guide/indexing.html#returning-a-view-versus-a-copy\n",
      "  df_sin_id_0 = df_nulos_borrados.drop(88384, inplace=True)\n"
     ]
    }
   ],
   "source": [
    "# Borrar dato 88384: porque no tiene información\n",
    "df_sin_id_0 = df_nulos_borrados.drop(88384, inplace=True) "
   ]
  },
  {
   "cell_type": "code",
   "execution_count": 122,
   "metadata": {},
   "outputs": [],
   "source": [
    "# Verificamos:\n",
    "df_nulos_borrados = df_nulos_borrados[df_nulos_borrados.index == 88384]"
   ]
  },
  {
   "cell_type": "code",
   "execution_count": 123,
   "metadata": {},
   "outputs": [
    {
     "data": {
      "text/html": [
       "<div>\n",
       "<style scoped>\n",
       "    .dataframe tbody tr th:only-of-type {\n",
       "        vertical-align: middle;\n",
       "    }\n",
       "\n",
       "    .dataframe tbody tr th {\n",
       "        vertical-align: top;\n",
       "    }\n",
       "\n",
       "    .dataframe thead th {\n",
       "        text-align: right;\n",
       "    }\n",
       "</style>\n",
       "<table border=\"1\" class=\"dataframe\">\n",
       "  <thead>\n",
       "    <tr style=\"text-align: right;\">\n",
       "      <th></th>\n",
       "      <th>genres</th>\n",
       "      <th>app_name</th>\n",
       "      <th>title</th>\n",
       "      <th>price</th>\n",
       "      <th>id</th>\n",
       "      <th>developer</th>\n",
       "      <th>year</th>\n",
       "      <th>month</th>\n",
       "      <th>day</th>\n",
       "    </tr>\n",
       "  </thead>\n",
       "  <tbody>\n",
       "  </tbody>\n",
       "</table>\n",
       "</div>"
      ],
      "text/plain": [
       "Empty DataFrame\n",
       "Columns: [genres, app_name, title, price, id, developer, year, month, day]\n",
       "Index: []"
      ]
     },
     "execution_count": 123,
     "metadata": {},
     "output_type": "execute_result"
    }
   ],
   "source": [
    "# No existe:\n",
    "df_nulos_borrados"
   ]
  },
  {
   "cell_type": "code",
   "execution_count": 124,
   "metadata": {},
   "outputs": [
    {
     "name": "stdout",
     "output_type": "stream",
     "text": [
      "El índice 88384 existe en el DataFrame.\n"
     ]
    }
   ],
   "source": [
    "# Verificar si el índice 88384 está presente:\n",
    "if 88384 in data_copia.index:\n",
    "    print(\"El índice 88384 existe en el DataFrame.\")\n",
    "else:\n",
    "    print(\"El índice 88384 no existe en el DataFrame.\")"
   ]
  },
  {
   "cell_type": "code",
   "execution_count": 125,
   "metadata": {},
   "outputs": [
    {
     "name": "stdout",
     "output_type": "stream",
     "text": [
      "El índice 119271 existe en el DataFrame.\n"
     ]
    }
   ],
   "source": [
    "# Verificar si el índice 119271 está presente:\n",
    "if 119271 in data_copia.index:\n",
    "    print(\"El índice 119271 existe en el DataFrame.\")\n",
    "else:\n",
    "    print(\"El índice 119271 no existe en el DataFrame.\")"
   ]
  },
  {
   "cell_type": "code",
   "execution_count": 126,
   "metadata": {},
   "outputs": [
    {
     "data": {
      "text/html": [
       "<div>\n",
       "<style scoped>\n",
       "    .dataframe tbody tr th:only-of-type {\n",
       "        vertical-align: middle;\n",
       "    }\n",
       "\n",
       "    .dataframe tbody tr th {\n",
       "        vertical-align: top;\n",
       "    }\n",
       "\n",
       "    .dataframe thead th {\n",
       "        text-align: right;\n",
       "    }\n",
       "</style>\n",
       "<table border=\"1\" class=\"dataframe\">\n",
       "  <thead>\n",
       "    <tr style=\"text-align: right;\">\n",
       "      <th></th>\n",
       "      <th>genres</th>\n",
       "      <th>app_name</th>\n",
       "      <th>title</th>\n",
       "      <th>price</th>\n",
       "      <th>id</th>\n",
       "      <th>developer</th>\n",
       "      <th>year</th>\n",
       "      <th>month</th>\n",
       "      <th>day</th>\n",
       "    </tr>\n",
       "  </thead>\n",
       "  <tbody>\n",
       "    <tr>\n",
       "      <th>119271</th>\n",
       "      <td>Action</td>\n",
       "      <td>Batman: Arkham City - Game of the Year Edition</td>\n",
       "      <td>Batman: Arkham City - Game of the Year Edition</td>\n",
       "      <td>19.99</td>\n",
       "      <td>0</td>\n",
       "      <td>Rocksteady Studios,Feral Interactive (Mac)</td>\n",
       "      <td>2012</td>\n",
       "      <td>09</td>\n",
       "      <td>07</td>\n",
       "    </tr>\n",
       "    <tr>\n",
       "      <th>119271</th>\n",
       "      <td>Adventure</td>\n",
       "      <td>Batman: Arkham City - Game of the Year Edition</td>\n",
       "      <td>Batman: Arkham City - Game of the Year Edition</td>\n",
       "      <td>19.99</td>\n",
       "      <td>0</td>\n",
       "      <td>Rocksteady Studios,Feral Interactive (Mac)</td>\n",
       "      <td>2012</td>\n",
       "      <td>09</td>\n",
       "      <td>07</td>\n",
       "    </tr>\n",
       "  </tbody>\n",
       "</table>\n",
       "</div>"
      ],
      "text/plain": [
       "           genres                                        app_name  \\\n",
       "119271     Action  Batman: Arkham City - Game of the Year Edition   \n",
       "119271  Adventure  Batman: Arkham City - Game of the Year Edition   \n",
       "\n",
       "                                                 title  price id  \\\n",
       "119271  Batman: Arkham City - Game of the Year Edition  19.99  0   \n",
       "119271  Batman: Arkham City - Game of the Year Edition  19.99  0   \n",
       "\n",
       "                                         developer  year month day  \n",
       "119271  Rocksteady Studios,Feral Interactive (Mac)  2012    09  07  \n",
       "119271  Rocksteady Studios,Feral Interactive (Mac)  2012    09  07  "
      ]
     },
     "execution_count": 126,
     "metadata": {},
     "output_type": "execute_result"
    }
   ],
   "source": [
    "# Verificamos índice 119271 en la dataframe:\n",
    "data_copia.loc[119271]"
   ]
  },
  {
   "cell_type": "code",
   "execution_count": 127,
   "metadata": {},
   "outputs": [
    {
     "data": {
      "text/plain": [
       "array(['2018', '2017', 0, 'Soon', '1997', '1998', '2016', '2006', 'Beta',\n",
       "       '2005', '2003', '2007', '2002', '2000', '1995', '1996', '1994',\n",
       "       '2001', '1993', '2004', '1999', '2008', '2009', 'Jun ', '1992',\n",
       "       '1989', '2010', '2011', 'Oct ', 'Feb ', '2013', '2012', '2014',\n",
       "       '1983', '1984', '2015', 'Aug ', 'Sep ', '1990', '1988', '1991',\n",
       "       'Apr ', '1985', '1982', '1987', 'Jul ', 'June', 'Comi', 'Q2 2',\n",
       "       'TBA', 'When', 'comi', '1981', 'Wint', 'soon', 'Mar ', '14 J',\n",
       "       'Summ', '1986', 'Spri', 'To b', 'Octo', 'TBD', 'Fall', 'Nov ',\n",
       "       'Q1 2', 'Dec ', 'Янва', 'Firs', 'H2 2', '21 J', 'Plea', 'earl',\n",
       "       'SOON', '2021', 'Augu', '1st ', 'Jan ', '预热群5', '0̵1̴', '\"\"\"S',\n",
       "       'Demo', 'Not ', \"C'es\", '2019', 'Janu', 'Q4 2', 'Earl', 'Data',\n",
       "       '1975', '1970', 'Play', 'TBA ', 'Rele', 'Dece', 'Comm', 'To B',\n",
       "       '1980', 'End ', 'Q1 (', 'May ', 'Late', 'Hitt', '15.0', 'Q1, '],\n",
       "      dtype=object)"
      ]
     },
     "execution_count": 127,
     "metadata": {},
     "output_type": "execute_result"
    }
   ],
   "source": [
    "# Revisar valores únicos de Fecha \"year\"\n",
    "data_copia.year.unique()"
   ]
  },
  {
   "cell_type": "code",
   "execution_count": 128,
   "metadata": {},
   "outputs": [],
   "source": [
    "# Convertir a fechas y reemplazar valores no válidos con NaN\n",
    "data_copia[\"year\"] = pd.to_datetime(data_copia[\"year\"], errors=\"coerce\")"
   ]
  },
  {
   "cell_type": "code",
   "execution_count": 129,
   "metadata": {},
   "outputs": [],
   "source": [
    "# Llenar los NaN con cadenas vacías\n",
    "data_copia[\"year\"] = data_copia[\"year\"].fillna(\" \")"
   ]
  },
  {
   "cell_type": "code",
   "execution_count": 130,
   "metadata": {},
   "outputs": [
    {
     "name": "stdout",
     "output_type": "stream",
     "text": [
      "Total de valores nulos: 8879\n",
      "\n",
      "Valores nulos por columna:\n",
      "genres          0\n",
      "app_name        3\n",
      "title        2051\n",
      "price        3346\n",
      "id              0\n",
      "developer    3479\n",
      "year            0\n",
      "month           0\n",
      "day             0\n",
      "dtype: int64\n"
     ]
    }
   ],
   "source": [
    "# Cuántos nulos existen en la data, posterior al cambio:\n",
    "valores_nulos_por_columna = data_copia.isnull().sum()\n",
    "total_valores_nulos = valores_nulos_por_columna.sum()\n",
    "\n",
    "print(\"Total de valores nulos:\", total_valores_nulos)\n",
    "print(\"\\nValores nulos por columna:\")\n",
    "print(valores_nulos_por_columna)"
   ]
  },
  {
   "cell_type": "code",
   "execution_count": 131,
   "metadata": {},
   "outputs": [],
   "source": [
    "# Reemplazar nulos por 0 en developer:\n",
    "data_copia[\"developer\"].fillna(0, inplace=True)"
   ]
  },
  {
   "cell_type": "code",
   "execution_count": 132,
   "metadata": {},
   "outputs": [],
   "source": [
    "# En los valores de la columna title, se reemplazan los NaNs con los valores de la columna app_name, siempre y cuando no sea nulo:\n",
    "data_copia[\"title\"].fillna(data_copia[\"app_name\"], inplace=True)"
   ]
  },
  {
   "cell_type": "code",
   "execution_count": 133,
   "metadata": {},
   "outputs": [],
   "source": [
    "# En los valores de la columna app_name, se reemplazan los NaNs con los valores de la columna title, siempre y cuando no sea nulo:\n",
    "data_copia[\"app_name\"].fillna(data_copia[\"title\"], inplace=True)"
   ]
  },
  {
   "cell_type": "code",
   "execution_count": 134,
   "metadata": {},
   "outputs": [
    {
     "name": "stdout",
     "output_type": "stream",
     "text": [
      "[4.99 'Free To Play' 'Free to Play' 0.99 2.99 3.99 9.99 18.99 29.99 nan\n",
      " 'Free' 10.99 1.59 14.99 1.99 59.99 8.99 6.99 7.99 39.99 19.99 7.49 12.99\n",
      " 5.99 2.49 15.99 1.25 24.99 17.99 61.99 3.49 11.99 13.99 'Free Demo'\n",
      " 'Play for Free!' 34.99 74.76 1.49 32.99 99.99 14.95 69.99 16.99 79.99\n",
      " 49.99 5.0 44.99 13.98 29.96 119.99 109.99 149.99 771.71 'Install Now'\n",
      " 21.99 89.99 'Play WARMACHINE: Tactics Demo' 0.98 139.92 4.29 64.99\n",
      " 'Free Mod' 54.99 74.99 'Install Theme' 0.89 'Third-party' 0.5 'Play Now'\n",
      " 299.99 1.29 3.0 15.0 5.49 23.99 49.0 20.99 10.93 1.39\n",
      " 'Free HITMAN™ Holiday Pack' 36.99 4.49 2.0 4.0 9.0 234.99 1.95 1.5 199.0\n",
      " 189.0 6.66 27.99 10.49 129.99 179.0 26.99 399.99 31.99 399.0 20.0 40.0\n",
      " 3.33 199.99 22.99 320.0 38.85 71.7 59.95 995.0 27.49 3.39 6.0 19.95\n",
      " 499.99 16.06 4.68 131.4 44.98 202.76 1.0 2.3 0.95 172.24 249.99 2.97\n",
      " 10.96 10.0 30.0 2.66 6.48 19.29 11.15 18.9 2.89 'Play the Demo' 99.0\n",
      " 87.94 599.0 8.98 9.69 0.49 9.98 9.95 7.0 'Starting at $499.00'\n",
      " 'Starting at $449.00' 12.89 6.49 1.87 42.99 41.99 289.99 'Free to Try'\n",
      " 23.96 5.65 12.0 13.37 189.96 124.99 'Free Movie' 19.98 160.91\n",
      " 'Free to Use']\n"
     ]
    }
   ],
   "source": [
    "# Revisar los valores de la columna price:\n",
    "valores_unicos_price = data_copia[\"price\"].unique()\n",
    "print(valores_unicos_price)"
   ]
  },
  {
   "cell_type": "code",
   "execution_count": 135,
   "metadata": {},
   "outputs": [],
   "source": [
    "# Reemplazao de valores de \"price\":\n",
    "data_copia[\"price\"] = data_copia[\"price\"].replace(\"Free to Play\", \"Free\")\n",
    "data_copia[\"price\"] = data_copia[\"price\"].replace(\"Free Demo\", \"Free\")\n",
    "data_copia[\"price\"] = data_copia[\"price\"].replace(\"Play for Free!\", \"Free\")\n",
    "data_copia[\"price\"] = data_copia[\"price\"].replace(\"Install Now\", \"Free\")  \n",
    "data_copia[\"price\"] = data_copia[\"price\"].replace(\"Play WARMACHINE: Tactics Demo\", \"Free\")\n",
    "data_copia[\"price\"] = data_copia[\"price\"].replace(\"Free Mod\", \"Free\")\n",
    "data_copia[\"price\"] = data_copia[\"price\"].replace(\"Install Theme\", \"Free\")\n",
    "data_copia[\"price\"] = data_copia[\"price\"].replace(\"Third-party\", \"Free\")\n",
    "data_copia[\"price\"] = data_copia[\"price\"].replace(\"Play Now\", \"Free\")\n",
    "data_copia[\"price\"] = data_copia[\"price\"].replace(\"Free HITMAN™ Holiday Pack\", \"Free\")\n",
    "data_copia[\"price\"] = data_copia[\"price\"].replace(\"Play the Demo\", \"Free\")\n",
    "data_copia[\"price\"] = data_copia[\"price\"].replace(\"Free Movie\", \"Free\")  \n",
    "data_copia[\"price\"] = data_copia[\"price\"].replace(\"Free to Use\", \"Free\")\n",
    "data_copia[\"price\"] = data_copia[\"price\"].replace(\"Starting at $499.00\", \"499.0\")\n",
    "data_copia[\"price\"] = data_copia[\"price\"].replace(\"Starting at $449.00\", \"449.0\")"
   ]
  },
  {
   "cell_type": "code",
   "execution_count": 136,
   "metadata": {},
   "outputs": [],
   "source": [
    "# Filtrar los valores numéricos\n",
    "numeric_values = pd.to_numeric(data_copia[\"price\"], errors=\"coerce\")  # Convierte a float, ignora errores"
   ]
  },
  {
   "cell_type": "code",
   "execution_count": 137,
   "metadata": {},
   "outputs": [],
   "source": [
    "# Redondear los valores numéricos a 1 decimal\n",
    "rounded_values = np.round(numeric_values, decimals=1)"
   ]
  },
  {
   "cell_type": "code",
   "execution_count": 138,
   "metadata": {},
   "outputs": [],
   "source": [
    "# Reemplazar los valores originales con los redondeados\n",
    "data_copia[\"price\"] = rounded_values"
   ]
  },
  {
   "cell_type": "code",
   "execution_count": 139,
   "metadata": {},
   "outputs": [],
   "source": [
    "# Reemplazar solo en la columna \"price\" los NaNs por \"Free\"\n",
    "data_copia[\"price\"] = data_copia[\"price\"].replace(np.nan, \"Free\")"
   ]
  },
  {
   "cell_type": "code",
   "execution_count": 140,
   "metadata": {},
   "outputs": [
    {
     "data": {
      "text/plain": [
       "array(['Lost Summoner Kitty', 'Ironbound', 'Real Pool 3D - Poolians', ...,\n",
       "       'Russian Roads', 'EXIT 2 - Directions', 'Maze Run VR'],\n",
       "      dtype=object)"
      ]
     },
     "execution_count": 140,
     "metadata": {},
     "output_type": "execute_result"
    }
   ],
   "source": [
    "data_copia[\"app_name\"].unique()"
   ]
  },
  {
   "cell_type": "code",
   "execution_count": 141,
   "metadata": {},
   "outputs": [
    {
     "name": "stdout",
     "output_type": "stream",
     "text": [
      "       genres app_name title price      id developer                 year  \\\n",
      "88384       0      NaN   NaN  20.0       0         0                        \n",
      "90890  Action      NaN   NaN  Free  317160         0  2014-01-01 00:00:00   \n",
      "90890   Indie      NaN   NaN  Free  317160         0  2014-01-01 00:00:00   \n",
      "\n",
      "      month day  \n",
      "88384     0   0  \n",
      "90890    08  26  \n",
      "90890    08  26  \n"
     ]
    }
   ],
   "source": [
    "# Filtrar las filas con valores nulos en la columna \"title\" (por ende, \"app_name\" también):\n",
    "filas_con_nulos = data_copia[data_copia[\"title\"].isnull()]\n",
    "print(filas_con_nulos)"
   ]
  },
  {
   "cell_type": "code",
   "execution_count": 142,
   "metadata": {},
   "outputs": [],
   "source": [
    "# En los valores de la columna title y app_name, se rellenan los NaNs con 0:\n",
    "data_copia[\"title\"].fillna(0, inplace=True)\n",
    "data_copia[\"app_name\"].fillna(0, inplace=True)"
   ]
  },
  {
   "cell_type": "code",
   "execution_count": 143,
   "metadata": {},
   "outputs": [
    {
     "name": "stdout",
     "output_type": "stream",
     "text": [
      "Total de valores nulos: 0\n",
      "\n",
      "Valores nulos por columna:\n",
      "genres       0\n",
      "app_name     0\n",
      "title        0\n",
      "price        0\n",
      "id           0\n",
      "developer    0\n",
      "year         0\n",
      "month        0\n",
      "day          0\n",
      "dtype: int64\n"
     ]
    }
   ],
   "source": [
    "# Cuántos nulos existen en la data, posterior al cambio:\n",
    "valores_nulos_por_columna = data_copia.isnull().sum()\n",
    "total_valores_nulos = valores_nulos_por_columna.sum()\n",
    "\n",
    "print(\"Total de valores nulos:\", total_valores_nulos)\n",
    "print(\"\\nValores nulos por columna:\")\n",
    "print(valores_nulos_por_columna)"
   ]
  },
  {
   "cell_type": "code",
   "execution_count": 144,
   "metadata": {},
   "outputs": [
    {
     "name": "stdout",
     "output_type": "stream",
     "text": [
      "<class 'pandas.core.frame.DataFrame'>\n",
      "Index: 74837 entries, 88310 to 120444\n",
      "Data columns (total 9 columns):\n",
      " #   Column     Non-Null Count  Dtype \n",
      "---  ------     --------------  ----- \n",
      " 0   genres     74837 non-null  object\n",
      " 1   app_name   74837 non-null  object\n",
      " 2   title      74837 non-null  object\n",
      " 3   price      74837 non-null  object\n",
      " 4   id         74837 non-null  object\n",
      " 5   developer  74837 non-null  object\n",
      " 6   year       74837 non-null  object\n",
      " 7   month      74837 non-null  object\n",
      " 8   day        74837 non-null  object\n",
      "dtypes: object(9)\n",
      "memory usage: 7.7+ MB\n"
     ]
    }
   ],
   "source": [
    "# Información final de la dataframe Games escogido:\n",
    "data_copia.info()"
   ]
  },
  {
   "cell_type": "markdown",
   "metadata": {},
   "source": [
    "EDA: descripción estadística y gráficas:"
   ]
  },
  {
   "cell_type": "code",
   "execution_count": 145,
   "metadata": {},
   "outputs": [
    {
     "data": {
      "text/html": [
       "<div>\n",
       "<style scoped>\n",
       "    .dataframe tbody tr th:only-of-type {\n",
       "        vertical-align: middle;\n",
       "    }\n",
       "\n",
       "    .dataframe tbody tr th {\n",
       "        vertical-align: top;\n",
       "    }\n",
       "\n",
       "    .dataframe thead th {\n",
       "        text-align: right;\n",
       "    }\n",
       "</style>\n",
       "<table border=\"1\" class=\"dataframe\">\n",
       "  <thead>\n",
       "    <tr style=\"text-align: right;\">\n",
       "      <th></th>\n",
       "      <th>genres</th>\n",
       "      <th>app_name</th>\n",
       "      <th>title</th>\n",
       "      <th>price</th>\n",
       "      <th>id</th>\n",
       "      <th>developer</th>\n",
       "      <th>year</th>\n",
       "      <th>month</th>\n",
       "      <th>day</th>\n",
       "    </tr>\n",
       "  </thead>\n",
       "  <tbody>\n",
       "    <tr>\n",
       "      <th>count</th>\n",
       "      <td>74837</td>\n",
       "      <td>74837</td>\n",
       "      <td>74837</td>\n",
       "      <td>74837.0</td>\n",
       "      <td>74837</td>\n",
       "      <td>74837</td>\n",
       "      <td>74837</td>\n",
       "      <td>74837</td>\n",
       "      <td>74837</td>\n",
       "    </tr>\n",
       "    <tr>\n",
       "      <th>unique</th>\n",
       "      <td>23</td>\n",
       "      <td>32095</td>\n",
       "      <td>32096</td>\n",
       "      <td>114.0</td>\n",
       "      <td>32133</td>\n",
       "      <td>10993</td>\n",
       "      <td>44</td>\n",
       "      <td>56</td>\n",
       "      <td>68</td>\n",
       "    </tr>\n",
       "    <tr>\n",
       "      <th>top</th>\n",
       "      <td>Indie</td>\n",
       "      <td>AutoTileSet</td>\n",
       "      <td>AutoTileSet</td>\n",
       "      <td>5.0</td>\n",
       "      <td>313320</td>\n",
       "      <td>0</td>\n",
       "      <td>2017-01-01 00:00:00</td>\n",
       "      <td>10</td>\n",
       "      <td>01</td>\n",
       "    </tr>\n",
       "    <tr>\n",
       "      <th>freq</th>\n",
       "      <td>15858</td>\n",
       "      <td>11</td>\n",
       "      <td>11</td>\n",
       "      <td>9900.0</td>\n",
       "      <td>11</td>\n",
       "      <td>3479</td>\n",
       "      <td>25352</td>\n",
       "      <td>7683</td>\n",
       "      <td>3401</td>\n",
       "    </tr>\n",
       "  </tbody>\n",
       "</table>\n",
       "</div>"
      ],
      "text/plain": [
       "       genres     app_name        title    price      id  developer  \\\n",
       "count   74837        74837        74837  74837.0   74837      74837   \n",
       "unique     23        32095        32096    114.0   32133      10993   \n",
       "top     Indie  AutoTileSet  AutoTileSet      5.0  313320          0   \n",
       "freq    15858           11           11   9900.0      11       3479   \n",
       "\n",
       "                       year  month    day  \n",
       "count                 74837  74837  74837  \n",
       "unique                   44     56     68  \n",
       "top     2017-01-01 00:00:00     10     01  \n",
       "freq                  25352   7683   3401  "
      ]
     },
     "execution_count": 145,
     "metadata": {},
     "output_type": "execute_result"
    }
   ],
   "source": [
    "# Descripción de Distribución de los datos:\n",
    "data_copia.describe()"
   ]
  },
  {
   "cell_type": "markdown",
   "metadata": {},
   "source": [
    "De acuerdo a la descripción de Frecuencia de los datos, las distribuciones parecen normales (hay que calcular en una próxima oportunidad):\n",
    "\n",
    "Los géneros de videojuegos que más se repiten son del tipo Indie (que son obras desarrolladas por estudios independientes \n",
    "que buscan explorar el medio desde un punto de vista personal, fresco y estéticamente atractivo. Estas creaciones no se \n",
    "limitan a un género específico, sino que abarcan una amplia variedad), unas 15858 veces (dentro de 23 géneros).\n",
    "\n",
    "El nombre de App o de juego que más se repite (11 veces) es AutoTileSet (juego de niveles).\n",
    "\n",
    "En Precios hay 114 valores únicos. El valor más frecuente es 5.0 dólares, que aparece 9 900 veces. \n",
    "\n",
    "El id de usuario que más se repite es 313 320, y aparece unas 11 veces. Hay 32 133 id de usuarios únicos.\n",
    "\n",
    "Hay 10 993 desarrolladores únicos en la columna “developer”.\n",
    "El desarrollador más frecuente tiene un valor de 0 (quizás representa valor nulo, sin nombre) y aparece 3 478 veces.\n",
    "\n",
    "El año en que más se jugó puede ser el 2017, con una frecuencia de 25 352 veces.\n",
    "\n",
    "El mes que más se repitió fue Octubre y los primeros días de mes (3 401 veces)."
   ]
  },
  {
   "cell_type": "code",
   "execution_count": 146,
   "metadata": {},
   "outputs": [
    {
     "data": {
      "image/png": "[encoded data removed]",
      "text/plain": [
       "<Figure size 640x480 with 1 Axes>"
      ]
     },
     "metadata": {},
     "output_type": "display_data"
    }
   ],
   "source": [
    "# Graficar un histograma de la columna \"genres\"\n",
    "data_copia[\"genres\"].value_counts().plot(kind=\"bar\")\n",
    "plt.xlabel(\"Género\")\n",
    "plt.ylabel(\"Frecuencia\")\n",
    "plt.title(\"Distribución de géneros\")\n",
    "plt.show()"
   ]
  },
  {
   "cell_type": "code",
   "execution_count": 147,
   "metadata": {},
   "outputs": [
    {
     "data": {
      "image/png": "[encoded data removed]",
      "text/plain": [
       "<Figure size 640x480 with 1 Axes>"
      ]
     },
     "metadata": {},
     "output_type": "display_data"
    }
   ],
   "source": [
    "# Graficar un histograma de la columna \"price\"\n",
    "data_copia[\"price\"].value_counts().plot(kind=\"bar\")\n",
    "plt.xlabel(\"Precios\")\n",
    "plt.ylabel(\"Frecuencia\")\n",
    "plt.title(\"Distribución de Precios\")\n",
    "plt.show()"
   ]
  },
  {
   "cell_type": "code",
   "execution_count": 148,
   "metadata": {},
   "outputs": [
    {
     "data": {
      "image/png": "[encoded data removed]",
      "text/plain": [
       "<Figure size 640x480 with 1 Axes>"
      ]
     },
     "metadata": {},
     "output_type": "display_data"
    }
   ],
   "source": [
    "# Graficar un histograma de la columna \"year\"\n",
    "data_copia[\"year\"].value_counts().plot(kind=\"bar\")\n",
    "plt.xlabel(\"Años\")\n",
    "plt.ylabel(\"Frecuencia\")\n",
    "plt.title(\"Distribución de Años\")\n",
    "plt.show()"
   ]
  },
  {
   "cell_type": "code",
   "execution_count": 149,
   "metadata": {},
   "outputs": [
    {
     "name": "stderr",
     "output_type": "stream",
     "text": [
      "C:\\Users\\56988\\AppData\\Roaming\\Python\\Python311\\site-packages\\IPython\\core\\pylabtools.py:152: UserWarning: Glyph 35797 (\\N{CJK UNIFIED IDEOGRAPH-8BD5}) missing from current font.\n",
      "  fig.canvas.print_figure(bytes_io, **kw)\n",
      "C:\\Users\\56988\\AppData\\Roaming\\Python\\Python311\\site-packages\\IPython\\core\\pylabtools.py:152: UserWarning: Glyph 24050 (\\N{CJK UNIFIED IDEOGRAPH-5DF2}) missing from current font.\n",
      "  fig.canvas.print_figure(bytes_io, **kw)\n",
      "C:\\Users\\56988\\AppData\\Roaming\\Python\\Python311\\site-packages\\IPython\\core\\pylabtools.py:152: UserWarning: Glyph 21021 (\\N{CJK UNIFIED IDEOGRAPH-521D}) missing from current font.\n",
      "  fig.canvas.print_figure(bytes_io, **kw)\n",
      "C:\\Users\\56988\\AppData\\Roaming\\Python\\Python311\\site-packages\\IPython\\core\\pylabtools.py:152: UserWarning: Glyph 38957 (\\N{CJK UNIFIED IDEOGRAPH-982D}) missing from current font.\n",
      "  fig.canvas.print_figure(bytes_io, **kw)\n",
      "C:\\Users\\56988\\AppData\\Roaming\\Python\\Python311\\site-packages\\IPython\\core\\pylabtools.py:152: UserWarning: Glyph 26376 (\\N{CJK UNIFIED IDEOGRAPH-6708}) missing from current font.\n",
      "  fig.canvas.print_figure(bytes_io, **kw)\n"
     ]
    },
    {
     "data": {
      "image/png": "[encoded data removed]",
      "text/plain": [
       "<Figure size 640x480 with 1 Axes>"
      ]
     },
     "metadata": {},
     "output_type": "display_data"
    }
   ],
   "source": [
    "# Graficar un histograma de la columna \"month\"\n",
    "data_copia[\"month\"].value_counts().plot(kind=\"bar\")\n",
    "plt.xlabel(\"Meses\")\n",
    "plt.ylabel(\"Frecuencia\")\n",
    "plt.title(\"Distribución de Meses\")\n",
    "plt.show()"
   ]
  },
  {
   "cell_type": "code",
   "execution_count": 150,
   "metadata": {},
   "outputs": [
    {
     "name": "stderr",
     "output_type": "stream",
     "text": [
      "C:\\Users\\56988\\AppData\\Roaming\\Python\\Python311\\site-packages\\IPython\\core\\pylabtools.py:152: UserWarning: Glyph 21551 (\\N{CJK UNIFIED IDEOGRAPH-542F}) missing from current font.\n",
      "  fig.canvas.print_figure(bytes_io, **kw)\n",
      "C:\\Users\\56988\\AppData\\Roaming\\Python\\Python311\\site-packages\\IPython\\core\\pylabtools.py:152: UserWarning: Glyph 22770 (\\N{CJK UNIFIED IDEOGRAPH-58F2}) missing from current font.\n",
      "  fig.canvas.print_figure(bytes_io, **kw)\n",
      "C:\\Users\\56988\\AppData\\Roaming\\Python\\Python311\\site-packages\\IPython\\core\\pylabtools.py:152: UserWarning: Glyph 20104 (\\N{CJK UNIFIED IDEOGRAPH-4E88}) missing from current font.\n",
      "  fig.canvas.print_figure(bytes_io, **kw)\n"
     ]
    },
    {
     "data": {
      "image/png": "[encoded data removed]",
      "text/plain": [
       "<Figure size 640x480 with 1 Axes>"
      ]
     },
     "metadata": {},
     "output_type": "display_data"
    }
   ],
   "source": [
    "# Graficar un histograma de la columna \"day\"\n",
    "data_copia[\"day\"].value_counts().plot(kind=\"bar\")\n",
    "plt.xlabel(\"Días\")\n",
    "plt.ylabel(\"Frecuencia\")\n",
    "plt.title(\"Distribución de Días\")\n",
    "plt.show()"
   ]
  },
  {
   "cell_type": "code",
   "execution_count": 151,
   "metadata": {},
   "outputs": [],
   "source": [
    "# Guardamos nueva data en un archivo .csv\n",
    "data_copia.to_csv('First_Game.csv', index=False)"
   ]
  }
 ],
 "metadata": {
  "kernelspec": {
   "display_name": "base",
   "language": "python",
   "name": "python3"
  },
  "language_info": {
   "codemirror_mode": {
    "name": "ipython",
    "version": 3
   },
   "file_extension": ".py",
   "mimetype": "text/x-python",
   "name": "python",
   "nbconvert_exporter": "python",
   "pygments_lexer": "ipython3",
   "version": "3.11.5"
  }
 },
 "nbformat": 4,
 "nbformat_minor": 2
}
