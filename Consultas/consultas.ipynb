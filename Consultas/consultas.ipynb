{
 "cells": [
  {
   "cell_type": "code",
   "execution_count": 2009,
   "metadata": {},
   "outputs": [],
   "source": [
    "# Importar librerías necesarias:\n",
    "import pandas as pd\n",
    "import numpy as np\n",
    "import re"
   ]
  },
  {
   "cell_type": "code",
   "execution_count": 2010,
   "metadata": {},
   "outputs": [],
   "source": [
    "# Abrir archivos .csv a dataframe\n",
    "df_1 = pd.read_csv(\"df_unido_1.csv\", encoding = \"latin-1\")\n",
    "df_2 = pd.read_csv(\"df_unido_2.csv\", encoding = \"latin-1\")\n",
    "df_3 = pd.read_csv(\"df_unido_3.csv\", encoding = \"latin-1\")\n",
    "df_4 = pd.read_csv(\"df_unido_4.csv\", encoding = \"latin-1\")\n",
    "df_5 = pd.read_csv(\"df_unido_5.csv\", encoding = \"latin-1\")"
   ]
  },
  {
   "cell_type": "markdown",
   "metadata": {},
   "source": [
    "Consulta 1: def developer( desarrollador : str ): Cantidad de items y porcentaje de contenido Free por año según empresa desarrolladora. Ejemplo de retorno:\n",
    "Año\tCantidad de Items\tContenido Free\n",
    "2023\t50\t27%\n",
    "2022\t45\t25%\n",
    "xxxx\txx\txx%"
   ]
  },
  {
   "cell_type": "code",
   "execution_count": 2011,
   "metadata": {},
   "outputs": [
    {
     "data": {
      "text/plain": [
       "Index(['developer', 'price', 'year', 'id', 'user_id', 'items_count',\n",
       "       'item_name'],\n",
       "      dtype='object')"
      ]
     },
     "execution_count": 2011,
     "metadata": {},
     "output_type": "execute_result"
    }
   ],
   "source": [
    "# Ver nombres de columnas\n",
    "df_1.columns"
   ]
  },
  {
   "cell_type": "code",
   "execution_count": 2012,
   "metadata": {},
   "outputs": [],
   "source": [
    "# Reemplazar Free por 0:\n",
    "df_1[\"price\"] = df_1[\"price\"].replace(\"Free\", 0)"
   ]
  },
  {
   "cell_type": "code",
   "execution_count": 2013,
   "metadata": {},
   "outputs": [],
   "source": [
    "# Convertir la columna 'fecha' a datetime\n",
    "df_1[\"year\"] = pd.to_datetime(df_1[\"year\"], errors=\"coerce\")"
   ]
  },
  {
   "cell_type": "code",
   "execution_count": 2014,
   "metadata": {},
   "outputs": [],
   "source": [
    "# Extraer el año y reemplazar los valores nulos con cero\n",
    "df_1[\"year\"] = df_1[\"year\"].dt.year.fillna(0)"
   ]
  },
  {
   "cell_type": "code",
   "execution_count": 2015,
   "metadata": {},
   "outputs": [],
   "source": [
    "# Cambiar tipo de dato a entero\n",
    "df_1[\"year\"] = df_1[\"year\"].astype(\"Int64\")"
   ]
  },
  {
   "cell_type": "code",
   "execution_count": 2016,
   "metadata": {},
   "outputs": [],
   "source": [
    "# Pasar price a flotante\n",
    "df_1[\"price\"] = pd.to_numeric(df_1[\"price\"], errors=\"coerce\")"
   ]
  },
  {
   "cell_type": "code",
   "execution_count": 2017,
   "metadata": {},
   "outputs": [],
   "source": [
    "# Convierte la columna \"developer\" a tipo string (texto)\n",
    "df_1[\"developer\"] = df_1[\"developer\"].astype(str)"
   ]
  },
  {
   "cell_type": "code",
   "execution_count": 2018,
   "metadata": {},
   "outputs": [
    {
     "data": {
      "text/html": [
       "<div>\n",
       "<style scoped>\n",
       "    .dataframe tbody tr th:only-of-type {\n",
       "        vertical-align: middle;\n",
       "    }\n",
       "\n",
       "    .dataframe tbody tr th {\n",
       "        vertical-align: top;\n",
       "    }\n",
       "\n",
       "    .dataframe thead th {\n",
       "        text-align: right;\n",
       "    }\n",
       "</style>\n",
       "<table border=\"1\" class=\"dataframe\">\n",
       "  <thead>\n",
       "    <tr style=\"text-align: right;\">\n",
       "      <th></th>\n",
       "      <th>developer</th>\n",
       "      <th>price</th>\n",
       "      <th>year</th>\n",
       "      <th>id</th>\n",
       "      <th>user_id</th>\n",
       "      <th>items_count</th>\n",
       "      <th>item_name</th>\n",
       "    </tr>\n",
       "  </thead>\n",
       "  <tbody>\n",
       "    <tr>\n",
       "      <th>0</th>\n",
       "      <td>Kotoshiro</td>\n",
       "      <td>5.0</td>\n",
       "      <td>2018</td>\n",
       "      <td>761140</td>\n",
       "      <td>76561197970982479</td>\n",
       "      <td>277</td>\n",
       "      <td>Counter-Strike</td>\n",
       "    </tr>\n",
       "    <tr>\n",
       "      <th>1</th>\n",
       "      <td>Kotoshiro</td>\n",
       "      <td>5.0</td>\n",
       "      <td>2018</td>\n",
       "      <td>761140</td>\n",
       "      <td>76561197970982479</td>\n",
       "      <td>277</td>\n",
       "      <td>Team Fortress Classic</td>\n",
       "    </tr>\n",
       "  </tbody>\n",
       "</table>\n",
       "</div>"
      ],
      "text/plain": [
       "   developer  price  year      id            user_id  items_count  \\\n",
       "0  Kotoshiro    5.0  2018  761140  76561197970982479          277   \n",
       "1  Kotoshiro    5.0  2018  761140  76561197970982479          277   \n",
       "\n",
       "               item_name  \n",
       "0         Counter-Strike  \n",
       "1  Team Fortress Classic  "
      ]
     },
     "execution_count": 2018,
     "metadata": {},
     "output_type": "execute_result"
    }
   ],
   "source": [
    "df_1.head(2)"
   ]
  },
  {
   "cell_type": "code",
   "execution_count": 2019,
   "metadata": {},
   "outputs": [
    {
     "name": "stdout",
     "output_type": "stream",
     "text": [
      "<class 'pandas.core.frame.DataFrame'>\n",
      "RangeIndex: 74837 entries, 0 to 74836\n",
      "Data columns (total 7 columns):\n",
      " #   Column       Non-Null Count  Dtype  \n",
      "---  ------       --------------  -----  \n",
      " 0   developer    74837 non-null  object \n",
      " 1   price        74837 non-null  float64\n",
      " 2   year         74837 non-null  Int64  \n",
      " 3   id           74837 non-null  int64  \n",
      " 4   user_id      74837 non-null  object \n",
      " 5   items_count  74837 non-null  int64  \n",
      " 6   item_name    74837 non-null  object \n",
      "dtypes: Int64(1), float64(1), int64(2), object(3)\n",
      "memory usage: 4.1+ MB\n"
     ]
    }
   ],
   "source": [
    "df_1.info()"
   ]
  },
  {
   "cell_type": "code",
   "execution_count": 2020,
   "metadata": {},
   "outputs": [
    {
     "data": {
      "text/plain": [
       "array(['Kotoshiro', 'Secret Level SRL', 'Poolians.com', ...,\n",
       "       'Oscar Ortigueira LÃ\\x83Â³pez,OrtiGames/OrtiSoft', 'INGAME',\n",
       "       'Bidoniera Games'], dtype=object)"
      ]
     },
     "execution_count": 2020,
     "metadata": {},
     "output_type": "execute_result"
    }
   ],
   "source": [
    "df_1[\"developer\"].unique()"
   ]
  },
  {
   "cell_type": "code",
   "execution_count": 2021,
   "metadata": {},
   "outputs": [],
   "source": [
    "# Data de Desarrollador\n",
    "data_dev = df_1[[\"developer\", \"year\", \"items_count\", \"price\"]].astype({\"developer\": str, \"year\": int, \"items_count\": int, \"price\": float})"
   ]
  },
  {
   "cell_type": "code",
   "execution_count": 2022,
   "metadata": {},
   "outputs": [],
   "source": [
    "# Si el desarrollador es:\n",
    "desarrollador_normalizado = \"Secret Level SRL\""
   ]
  },
  {
   "cell_type": "code",
   "execution_count": 2023,
   "metadata": {},
   "outputs": [],
   "source": [
    "# Valores sin espacio en developer\n",
    "desarrollador_normalizado = data_dev[\"developer\"].apply(lambda x: x.title().strip())"
   ]
  },
  {
   "cell_type": "code",
   "execution_count": 2024,
   "metadata": {},
   "outputs": [],
   "source": [
    "# Filtramos por el desarrollador que se ingrese\n",
    "filter_data_dev = data_dev[data_dev[\"developer\"].str.lower() == desarrollador_normalizado]"
   ]
  },
  {
   "cell_type": "code",
   "execution_count": 2025,
   "metadata": {},
   "outputs": [],
   "source": [
    "# Cantidad de items por año\n",
    "items_year = data_dev.groupby(\"year\")[\"items_count\"].count().to_dict()"
   ]
  },
  {
   "cell_type": "code",
   "execution_count": 2026,
   "metadata": {},
   "outputs": [],
   "source": [
    "# Calculamos la cantidad de contenido free por año\n",
    "cantidad_free = data_dev[data_dev[\"price\"] == 0.0].groupby(\"year\")[\"items_count\"].count().fillna(0).to_dict()"
   ]
  },
  {
   "cell_type": "code",
   "execution_count": 2027,
   "metadata": {},
   "outputs": [],
   "source": [
    "# Se calcula el porcentaje free, redondeado a un decimal\n",
    "porcentaje_free = {year: f\"{(cantidad_free.get(year, 0) / items_year.get(year, 1)) * 100:.1f}%\" for year in items_year}"
   ]
  },
  {
   "cell_type": "markdown",
   "metadata": {},
   "source": [
    "Consulta 1: Al ingresar el nombre de un Desarrollador, resulta en Año, Cantidad de Items Free y %."
   ]
  },
  {
   "cell_type": "code",
   "execution_count": 2028,
   "metadata": {},
   "outputs": [],
   "source": [
    "# Primera Consulta:\n",
    "def InfoDeveloper(desarrollador_normalizado : str):\n",
    "    '''Al ingresar el nombre de un Desarrollador, la función devuelve el Año, la cantidad de items Free y el porcentaje de éste.'''\n",
    "\n",
    "    # Filtramos por el desarrollador que se ingrese\n",
    "    filter_data_dev = data_dev[data_dev[\"developer\"].str.lower() == desarrollador_normalizado]\n",
    "    # Cantidad de items por año\n",
    "    items_year = data_dev.groupby(\"year\")[\"items_count\"].count().to_dict()\n",
    "    # Calculamos la cantidad de contenido free por año\n",
    "    cantidad_free = data_dev[data_dev[\"price\"] == 0.0].groupby(\"year\")[\"items_count\"].count().fillna(0).to_dict()\n",
    "    # Se calcula el porcentaje free, redondeado a un decimal\n",
    "    porcentaje_free = {year: f\"{(cantidad_free.get(year, 0) / items_year.get(year, 1)) * 100:.1f}%\" for year in items_year}\n",
    "    \n",
    "    # Formato de salida en JSON\n",
    "    output = {\n",
    "            \"Agnos\": items_year,\n",
    "            \"Cantidad de items free\": cantidad_free,\n",
    "            \"Porcentaje free por agno\": porcentaje_free\n",
    "            }\n",
    "    return output"
   ]
  },
  {
   "cell_type": "code",
   "execution_count": 2029,
   "metadata": {},
   "outputs": [
    {
     "data": {
      "text/plain": [
       "{'Agnos': {0: 2747,\n",
       "  1970: 2,\n",
       "  1975: 1,\n",
       "  1980: 1,\n",
       "  1981: 3,\n",
       "  1982: 3,\n",
       "  1983: 6,\n",
       "  1984: 7,\n",
       "  1985: 3,\n",
       "  1986: 5,\n",
       "  1987: 10,\n",
       "  1988: 11,\n",
       "  1989: 14,\n",
       "  1990: 16,\n",
       "  1991: 26,\n",
       "  1992: 26,\n",
       "  1993: 49,\n",
       "  1994: 56,\n",
       "  1995: 51,\n",
       "  1996: 60,\n",
       "  1997: 67,\n",
       "  1998: 86,\n",
       "  1999: 87,\n",
       "  2000: 60,\n",
       "  2001: 119,\n",
       "  2002: 70,\n",
       "  2003: 128,\n",
       "  2004: 107,\n",
       "  2005: 149,\n",
       "  2006: 230,\n",
       "  2007: 277,\n",
       "  2008: 351,\n",
       "  2009: 507,\n",
       "  2010: 696,\n",
       "  2011: 1034,\n",
       "  2012: 2162,\n",
       "  2013: 3090,\n",
       "  2014: 6445,\n",
       "  2015: 12407,\n",
       "  2016: 17911,\n",
       "  2017: 25352,\n",
       "  2018: 392,\n",
       "  2019: 10,\n",
       "  2021: 3},\n",
       " 'Cantidad de items free': {0: 1067,\n",
       "  1981: 1,\n",
       "  1990: 3,\n",
       "  1991: 3,\n",
       "  1993: 1,\n",
       "  1994: 4,\n",
       "  1995: 1,\n",
       "  1996: 3,\n",
       "  1997: 1,\n",
       "  1998: 1,\n",
       "  1999: 12,\n",
       "  2001: 19,\n",
       "  2002: 1,\n",
       "  2003: 9,\n",
       "  2004: 5,\n",
       "  2005: 14,\n",
       "  2006: 20,\n",
       "  2007: 42,\n",
       "  2008: 44,\n",
       "  2009: 25,\n",
       "  2010: 31,\n",
       "  2011: 81,\n",
       "  2012: 185,\n",
       "  2013: 226,\n",
       "  2014: 814,\n",
       "  2015: 1587,\n",
       "  2016: 1804,\n",
       "  2017: 2284,\n",
       "  2018: 173,\n",
       "  2019: 4},\n",
       " 'Porcentaje free por agno': {0: '38.8%',\n",
       "  1970: '0.0%',\n",
       "  1975: '0.0%',\n",
       "  1980: '0.0%',\n",
       "  1981: '33.3%',\n",
       "  1982: '0.0%',\n",
       "  1983: '0.0%',\n",
       "  1984: '0.0%',\n",
       "  1985: '0.0%',\n",
       "  1986: '0.0%',\n",
       "  1987: '0.0%',\n",
       "  1988: '0.0%',\n",
       "  1989: '0.0%',\n",
       "  1990: '18.8%',\n",
       "  1991: '11.5%',\n",
       "  1992: '0.0%',\n",
       "  1993: '2.0%',\n",
       "  1994: '7.1%',\n",
       "  1995: '2.0%',\n",
       "  1996: '5.0%',\n",
       "  1997: '1.5%',\n",
       "  1998: '1.2%',\n",
       "  1999: '13.8%',\n",
       "  2000: '0.0%',\n",
       "  2001: '16.0%',\n",
       "  2002: '1.4%',\n",
       "  2003: '7.0%',\n",
       "  2004: '4.7%',\n",
       "  2005: '9.4%',\n",
       "  2006: '8.7%',\n",
       "  2007: '15.2%',\n",
       "  2008: '12.5%',\n",
       "  2009: '4.9%',\n",
       "  2010: '4.5%',\n",
       "  2011: '7.8%',\n",
       "  2012: '8.6%',\n",
       "  2013: '7.3%',\n",
       "  2014: '12.6%',\n",
       "  2015: '12.8%',\n",
       "  2016: '10.1%',\n",
       "  2017: '9.0%',\n",
       "  2018: '44.1%',\n",
       "  2019: '40.0%',\n",
       "  2021: '0.0%'}}"
      ]
     },
     "execution_count": 2029,
     "metadata": {},
     "output_type": "execute_result"
    }
   ],
   "source": [
    "InfoDeveloper(\"Secret Level SRL\")"
   ]
  },
  {
   "cell_type": "code",
   "execution_count": 2030,
   "metadata": {},
   "outputs": [
    {
     "data": {
      "text/plain": [
       "{'Agnos': {0: 2747,\n",
       "  1970: 2,\n",
       "  1975: 1,\n",
       "  1980: 1,\n",
       "  1981: 3,\n",
       "  1982: 3,\n",
       "  1983: 6,\n",
       "  1984: 7,\n",
       "  1985: 3,\n",
       "  1986: 5,\n",
       "  1987: 10,\n",
       "  1988: 11,\n",
       "  1989: 14,\n",
       "  1990: 16,\n",
       "  1991: 26,\n",
       "  1992: 26,\n",
       "  1993: 49,\n",
       "  1994: 56,\n",
       "  1995: 51,\n",
       "  1996: 60,\n",
       "  1997: 67,\n",
       "  1998: 86,\n",
       "  1999: 87,\n",
       "  2000: 60,\n",
       "  2001: 119,\n",
       "  2002: 70,\n",
       "  2003: 128,\n",
       "  2004: 107,\n",
       "  2005: 149,\n",
       "  2006: 230,\n",
       "  2007: 277,\n",
       "  2008: 351,\n",
       "  2009: 507,\n",
       "  2010: 696,\n",
       "  2011: 1034,\n",
       "  2012: 2162,\n",
       "  2013: 3090,\n",
       "  2014: 6445,\n",
       "  2015: 12407,\n",
       "  2016: 17911,\n",
       "  2017: 25352,\n",
       "  2018: 392,\n",
       "  2019: 10,\n",
       "  2021: 3},\n",
       " 'Cantidad de items free': {0: 1067,\n",
       "  1981: 1,\n",
       "  1990: 3,\n",
       "  1991: 3,\n",
       "  1993: 1,\n",
       "  1994: 4,\n",
       "  1995: 1,\n",
       "  1996: 3,\n",
       "  1997: 1,\n",
       "  1998: 1,\n",
       "  1999: 12,\n",
       "  2001: 19,\n",
       "  2002: 1,\n",
       "  2003: 9,\n",
       "  2004: 5,\n",
       "  2005: 14,\n",
       "  2006: 20,\n",
       "  2007: 42,\n",
       "  2008: 44,\n",
       "  2009: 25,\n",
       "  2010: 31,\n",
       "  2011: 81,\n",
       "  2012: 185,\n",
       "  2013: 226,\n",
       "  2014: 814,\n",
       "  2015: 1587,\n",
       "  2016: 1804,\n",
       "  2017: 2284,\n",
       "  2018: 173,\n",
       "  2019: 4},\n",
       " 'Porcentaje free por agno': {0: '38.8%',\n",
       "  1970: '0.0%',\n",
       "  1975: '0.0%',\n",
       "  1980: '0.0%',\n",
       "  1981: '33.3%',\n",
       "  1982: '0.0%',\n",
       "  1983: '0.0%',\n",
       "  1984: '0.0%',\n",
       "  1985: '0.0%',\n",
       "  1986: '0.0%',\n",
       "  1987: '0.0%',\n",
       "  1988: '0.0%',\n",
       "  1989: '0.0%',\n",
       "  1990: '18.8%',\n",
       "  1991: '11.5%',\n",
       "  1992: '0.0%',\n",
       "  1993: '2.0%',\n",
       "  1994: '7.1%',\n",
       "  1995: '2.0%',\n",
       "  1996: '5.0%',\n",
       "  1997: '1.5%',\n",
       "  1998: '1.2%',\n",
       "  1999: '13.8%',\n",
       "  2000: '0.0%',\n",
       "  2001: '16.0%',\n",
       "  2002: '1.4%',\n",
       "  2003: '7.0%',\n",
       "  2004: '4.7%',\n",
       "  2005: '9.4%',\n",
       "  2006: '8.7%',\n",
       "  2007: '15.2%',\n",
       "  2008: '12.5%',\n",
       "  2009: '4.9%',\n",
       "  2010: '4.5%',\n",
       "  2011: '7.8%',\n",
       "  2012: '8.6%',\n",
       "  2013: '7.3%',\n",
       "  2014: '12.6%',\n",
       "  2015: '12.8%',\n",
       "  2016: '10.1%',\n",
       "  2017: '9.0%',\n",
       "  2018: '44.1%',\n",
       "  2019: '40.0%',\n",
       "  2021: '0.0%'}}"
      ]
     },
     "execution_count": 2030,
     "metadata": {},
     "output_type": "execute_result"
    }
   ],
   "source": [
    "InfoDeveloper(\"Laush Dmitriy Sergeevich\")"
   ]
  },
  {
   "cell_type": "code",
   "execution_count": 2031,
   "metadata": {},
   "outputs": [
    {
     "data": {
      "text/plain": [
       "{'Agnos': {0: 2747,\n",
       "  1970: 2,\n",
       "  1975: 1,\n",
       "  1980: 1,\n",
       "  1981: 3,\n",
       "  1982: 3,\n",
       "  1983: 6,\n",
       "  1984: 7,\n",
       "  1985: 3,\n",
       "  1986: 5,\n",
       "  1987: 10,\n",
       "  1988: 11,\n",
       "  1989: 14,\n",
       "  1990: 16,\n",
       "  1991: 26,\n",
       "  1992: 26,\n",
       "  1993: 49,\n",
       "  1994: 56,\n",
       "  1995: 51,\n",
       "  1996: 60,\n",
       "  1997: 67,\n",
       "  1998: 86,\n",
       "  1999: 87,\n",
       "  2000: 60,\n",
       "  2001: 119,\n",
       "  2002: 70,\n",
       "  2003: 128,\n",
       "  2004: 107,\n",
       "  2005: 149,\n",
       "  2006: 230,\n",
       "  2007: 277,\n",
       "  2008: 351,\n",
       "  2009: 507,\n",
       "  2010: 696,\n",
       "  2011: 1034,\n",
       "  2012: 2162,\n",
       "  2013: 3090,\n",
       "  2014: 6445,\n",
       "  2015: 12407,\n",
       "  2016: 17911,\n",
       "  2017: 25352,\n",
       "  2018: 392,\n",
       "  2019: 10,\n",
       "  2021: 3},\n",
       " 'Cantidad de items free': {0: 1067,\n",
       "  1981: 1,\n",
       "  1990: 3,\n",
       "  1991: 3,\n",
       "  1993: 1,\n",
       "  1994: 4,\n",
       "  1995: 1,\n",
       "  1996: 3,\n",
       "  1997: 1,\n",
       "  1998: 1,\n",
       "  1999: 12,\n",
       "  2001: 19,\n",
       "  2002: 1,\n",
       "  2003: 9,\n",
       "  2004: 5,\n",
       "  2005: 14,\n",
       "  2006: 20,\n",
       "  2007: 42,\n",
       "  2008: 44,\n",
       "  2009: 25,\n",
       "  2010: 31,\n",
       "  2011: 81,\n",
       "  2012: 185,\n",
       "  2013: 226,\n",
       "  2014: 814,\n",
       "  2015: 1587,\n",
       "  2016: 1804,\n",
       "  2017: 2284,\n",
       "  2018: 173,\n",
       "  2019: 4},\n",
       " 'Porcentaje free por agno': {0: '38.8%',\n",
       "  1970: '0.0%',\n",
       "  1975: '0.0%',\n",
       "  1980: '0.0%',\n",
       "  1981: '33.3%',\n",
       "  1982: '0.0%',\n",
       "  1983: '0.0%',\n",
       "  1984: '0.0%',\n",
       "  1985: '0.0%',\n",
       "  1986: '0.0%',\n",
       "  1987: '0.0%',\n",
       "  1988: '0.0%',\n",
       "  1989: '0.0%',\n",
       "  1990: '18.8%',\n",
       "  1991: '11.5%',\n",
       "  1992: '0.0%',\n",
       "  1993: '2.0%',\n",
       "  1994: '7.1%',\n",
       "  1995: '2.0%',\n",
       "  1996: '5.0%',\n",
       "  1997: '1.5%',\n",
       "  1998: '1.2%',\n",
       "  1999: '13.8%',\n",
       "  2000: '0.0%',\n",
       "  2001: '16.0%',\n",
       "  2002: '1.4%',\n",
       "  2003: '7.0%',\n",
       "  2004: '4.7%',\n",
       "  2005: '9.4%',\n",
       "  2006: '8.7%',\n",
       "  2007: '15.2%',\n",
       "  2008: '12.5%',\n",
       "  2009: '4.9%',\n",
       "  2010: '4.5%',\n",
       "  2011: '7.8%',\n",
       "  2012: '8.6%',\n",
       "  2013: '7.3%',\n",
       "  2014: '12.6%',\n",
       "  2015: '12.8%',\n",
       "  2016: '10.1%',\n",
       "  2017: '9.0%',\n",
       "  2018: '44.1%',\n",
       "  2019: '40.0%',\n",
       "  2021: '0.0%'}}"
      ]
     },
     "execution_count": 2031,
     "metadata": {},
     "output_type": "execute_result"
    }
   ],
   "source": [
    "InfoDeveloper(\"Kotoshiro\")"
   ]
  },
  {
   "cell_type": "markdown",
   "metadata": {},
   "source": [
    "Consulta 2: def userdata( User_id : str ): Debe devolver cantidad de dinero gastado por el usuario, el porcentaje de recomendación en base a reviews.recommend y cantidad de items.\n",
    "Ejemplo de retorno: {\"Usuario X\" : us213ndjss09sdf, \"Dinero gastado\": 200 USD, \"% de recomendación\": 20%, \"cantidad de items\": 5}"
   ]
  },
  {
   "cell_type": "code",
   "execution_count": 2032,
   "metadata": {},
   "outputs": [
    {
     "data": {
      "text/plain": [
       "Index(['price', 'id', 'user_id', 'items_count', 'item_name', 'recommend'], dtype='object')"
      ]
     },
     "execution_count": 2032,
     "metadata": {},
     "output_type": "execute_result"
    }
   ],
   "source": [
    "# Revisamos nombres de columnas de la dataframe df_2:\n",
    "df_2.columns"
   ]
  },
  {
   "cell_type": "code",
   "execution_count": 2033,
   "metadata": {},
   "outputs": [],
   "source": [
    "# Verificamos sus columnas:\n",
    "data_user = df_2[[\"price\", \"user_id\", \"recommend\", \"items_count\"]]"
   ]
  },
  {
   "cell_type": "code",
   "execution_count": 2034,
   "metadata": {},
   "outputs": [
    {
     "name": "stdout",
     "output_type": "stream",
     "text": [
      "<class 'pandas.core.frame.DataFrame'>\n",
      "RangeIndex: 59305 entries, 0 to 59304\n",
      "Data columns (total 4 columns):\n",
      " #   Column       Non-Null Count  Dtype \n",
      "---  ------       --------------  ----- \n",
      " 0   price        59305 non-null  object\n",
      " 1   user_id      59305 non-null  object\n",
      " 2   recommend    59305 non-null  bool  \n",
      " 3   items_count  59305 non-null  int64 \n",
      "dtypes: bool(1), int64(1), object(2)\n",
      "memory usage: 1.4+ MB\n"
     ]
    }
   ],
   "source": [
    "# Información de\n",
    "data_user.info()"
   ]
  },
  {
   "cell_type": "code",
   "execution_count": 2035,
   "metadata": {},
   "outputs": [
    {
     "name": "stderr",
     "output_type": "stream",
     "text": [
      "C:\\Users\\56988\\AppData\\Local\\Temp\\ipykernel_15832\\1922497046.py:2: SettingWithCopyWarning: \n",
      "A value is trying to be set on a copy of a slice from a DataFrame.\n",
      "Try using .loc[row_indexer,col_indexer] = value instead\n",
      "\n",
      "See the caveats in the documentation: https://pandas.pydata.org/pandas-docs/stable/user_guide/indexing.html#returning-a-view-versus-a-copy\n",
      "  data_user[\"price\"] = data_user[\"price\"].replace(\"Free\", 0).astype(float)\n"
     ]
    }
   ],
   "source": [
    "# Cambiar dataframe con una columna 'price' a flotante y Free a 0 al mismo tiempo\n",
    "data_user[\"price\"] = data_user[\"price\"].replace(\"Free\", 0).astype(float)"
   ]
  },
  {
   "cell_type": "code",
   "execution_count": 2036,
   "metadata": {},
   "outputs": [
    {
     "data": {
      "text/plain": [
       "array(['76561197970982479', 'js41637', 'evcentric', 'Riot-Punch', 'doctr',\n",
       "       'MinxIsBetterThanPotatoes', 'NitemarePK', 'themanwich',\n",
       "       'maplemage', 'corrupted_soul', 'jorellpogi', 'cadmusthreepointoh',\n",
       "       '76561198064823719', 'MeaTCompany', '76561198089393905',\n",
       "       '76561198156664158', '76561198077246154', '76561198070234207',\n",
       "       'WeiEDKrSat', 'thequeenpanda', 'death-hunter',\n",
       "       'turneddreamsintoanempire', 'DJKamBer', '76561198030389591',\n",
       "       'Rainbow-Dashie', 'btuty8trgt', '76561198043472122',\n",
       "       'MarbleShrine', 'fdcfelipefdc', 'bbaekhyun', 'Moomfina',\n",
       "       'PPanther', 'ABSOLUTLY_NOTHING', 'devvonst', 'Fr0stedLine',\n",
       "       '76561198058373434', '76561198048353577', '76561198072190369',\n",
       "       '76561198066046412', 'tru_mu_', 'wirlom', '76561198070565427',\n",
       "       'SavageEeEe', '76561198076909484', '76561198066908262',\n",
       "       'KanadeTheNeko', 'Leaf_Light_Moscow', 'erickoiv', 'GoAwayZach',\n",
       "       '76561198054540475', '76561198100701221', '76561198085547365',\n",
       "       '76561198061252210', 'OfficialShroomsy', '76561198056147391',\n",
       "       '8Bit-Ninja', '76561198071500702', '76561198099905030',\n",
       "       '76561198047407223', 'latiano', 'kongtape', 'boydeer',\n",
       "       '76561198100297613', 'VVillis', '76561198083226897',\n",
       "       '76561198075277292', '76561198094630961', '12549',\n",
       "       '76561198028895010', '76561198092411867', '76561198170198366',\n",
       "       'diego9031', 'iampiepiepie', '76561198079863506', 'jarrodtrim',\n",
       "       '76561198078738103', '76561198068964564', '76561198067936203',\n",
       "       '76561198079770573', 'UpTheAss', '76561197977385164',\n",
       "       '76561198075491015', '76561198087586464', '76561198086878953',\n",
       "       'Derp-e', '76561198070194565', 'Rivtex', 'firefreddy', 'UTNerd24',\n",
       "       'sandwiches1', '76561198093083895', '76561198138053270',\n",
       "       '76561198062422084', 'Life-Of-Blu', 'CaptianAutismo', 'maxgp',\n",
       "       'AppaTheSwagBison', 'knightboy991', '76561198034678103',\n",
       "       '76561198075895633', 'TheDropix101', 'kube134',\n",
       "       'iamthekingofbrowntown', 'MainScout', 'gdxsd', 'yookobz',\n",
       "       'Posiblydead', 'Mossy_Gaming', '76561198093817084',\n",
       "       '76561198102421718', '76561198079045885', '76561198087407319',\n",
       "       '76561198074466513', 'damo131', '19702316748', 'FrystHjarte',\n",
       "       '76561198056741844', 'sad-commie', '76561198030567998',\n",
       "       'Coldaniel', 'therealmorty', 'itslonk', 'DeDroidUreLookin4',\n",
       "       'Berserklejerker', '76561198088799241', '76561198061730629',\n",
       "       'YoHuNz', 'possessioniskey', '76561198072732874',\n",
       "       '76561198093112529', 'sevqu', '76561198060447950',\n",
       "       'whiteofwolfing', '76561198056857968', 'sergarino', 'PyroCreed',\n",
       "       '76561198052897627', '76561198081962345', '76561198039266268',\n",
       "       '76561198094224872', '76561198073210139', 'Nozomikat',\n",
       "       '76561198076933844', '76561198072186059', 'xfluttersx',\n",
       "       '76561198068621601', '76561198056290589', 'ii_voltage_ii',\n",
       "       '76561198097762318', 'Hirukaz', 'StelerForYou',\n",
       "       '76561198183396245', 'otteloo', 'shinra420', 'Xx-Woods',\n",
       "       'kevinator23', 'tonyballoney', '76561198090715178',\n",
       "       'Child_Vs_Puddle', '76561198073784601', 'mimimomoma',\n",
       "       '76561198102410011', 'de_Butl3r', '76561198157999555',\n",
       "       '76561198027947401', 'Bluezap1', '76561198074200011', 'jonasdbomb',\n",
       "       'L1J1N', 'Lord_Exploit', '76561198079106676', '76561198092244787',\n",
       "       'Sanctus94', '76561197990792016', 'AVATAR715', '76561198073987767',\n",
       "       'Fluxxyz', '76561198092150873', 'YieuwMage', 'Nfkted_CS',\n",
       "       'A-Very-Sly-Person', '76561197994493402', '76561198065656175',\n",
       "       '76561198188979775', '97396295', 'xoFushiox', '76561198126640317',\n",
       "       'DemonicWolvz', 'DieMadchenschanderin', '76561198072706529',\n",
       "       '76561198215949741', 'GGargula', 'Myther43', 'getf0kinn0sc0pedm9',\n",
       "       '76561198141443390', '76561198031924053', '76561198097333029',\n",
       "       'dominiclim99', 'whodafuqisthisguilao', '76561198072205329',\n",
       "       'Icamebackbitches', 'Magjiikal', 'ohnospaghet',\n",
       "       '76561198060062487', '76561198050347115', '2768820078',\n",
       "       '76561198049968536', '76561198056392326', '2d4nk4m3',\n",
       "       '76561198074003102', '76561198078478151', 'exiaez',\n",
       "       'BURNINGchicken3', '76561198066835162', '76561198069593452',\n",
       "       'undietaker', '76561198095921854', 'EizanAratoFujimaki',\n",
       "       'POOTISSPENSOR', 'angorabug', 'TeCool', 'ZyhgarThestarweaver',\n",
       "       '2xDelorean', 'washington_', '76561198088944293',\n",
       "       '76561198061769804', '76561198051258119', '76561198065771371',\n",
       "       'nubquake123', 'Pyromanic', '76561198109656922',\n",
       "       '76561198149432604', 'Unplanned_stategy', 'CobRazor', 'relesprit',\n",
       "       '76561198090294067', 'jimmyarcexd', 'talove112345',\n",
       "       '76561198055094875', 'WitchHunter4542', '76561198203244300',\n",
       "       'pwrt', 'wantmahbody', '76561198115868847',\n",
       "       'benedictcuminherbatch', '76561198031207016', '76561198089077856',\n",
       "       '76561198043458582', 'smashiroshh', 'shark854',\n",
       "       '76561198062876401', '76561198011661078', 'PabloSanches',\n",
       "       '76561197991074667', 'killbunny38', '76561198047630659',\n",
       "       '76561198069713121', '1997-07-06_J077', '76561198076248461',\n",
       "       '1337lolroflmao', '76561198080832419', '76561198151645088',\n",
       "       'IAA_Recon_Dropbear', 'goonbagger', '76561198060039459',\n",
       "       'OzfurAtlas', '76561198065593074', 'madmax64', '76561198044169764',\n",
       "       'euzi', 'lucasrash', '76561198082845362', '76561198087767019',\n",
       "       'thisissohardtomakeoneup', '76561198087010391', '66666669999999',\n",
       "       '76561198061174192', 'DoaFapbeforeaNap', 'ReMiXOfficalSteam',\n",
       "       'Wilfire77', '76561198042730234', '76561198069159579',\n",
       "       '76561198086476445', '76561198085016240', '76561198060808273',\n",
       "       '76561198084390807', '76561198003688205', 'Mastic', 'Scooterinooo',\n",
       "       '76561198028286104', '76561198088447673', 'tarjla', 'deathnz1',\n",
       "       'readingthis4noobs', 'SonicMCGamer', 'xXBoss1Xx',\n",
       "       '76561198084698198', '76561198104393251', 'Borne901',\n",
       "       '76561198075322986', 'redsncrimson', '76561198151910904',\n",
       "       'H1DD3NT3RR0R', '76561198071214618', '76561198115115631',\n",
       "       'sisiiik', '76561198071175142', 't8s', 'pikawuu2', 'Sammeh00',\n",
       "       'godlike_bot', 'dpswaffles', 'NoObFiGHtEr', 'Michaelele',\n",
       "       '76561198045754869', '76561198076098774', '76561198074963071',\n",
       "       '76561198103253374', '76561198048417105', '76561197989175394',\n",
       "       '76561198090842891', '76561198058706736', '76561198055767971',\n",
       "       '76561197998052647', 'adohya343', '76561198145436942', '3xotic26',\n",
       "       'iamthetrashlord', 'nothingheretrustme', '76561198071253729',\n",
       "       '3dster', '76561198041808338', '76561198016685643',\n",
       "       '76561198079990063', 'Forty-Nine', '76561198051017916', 'L4M1NAS',\n",
       "       'emurphy8', '76561198096766604', 'Sephirical', '76561197995322437',\n",
       "       'imsojipper', '76561198066840831', '76561198096220900',\n",
       "       '76561198084542731', 'fullswag0to100realquick',\n",
       "       '76561198102121026', '76561198103671881', 'mrpfresh', 'GamerFag',\n",
       "       '76561197970628046', '76561198013858002', '76561198058570014',\n",
       "       '76561198045133986', '76561198002820828', 'chidori_647',\n",
       "       '76561198092227136', 'hellcat59', '76561198007584361',\n",
       "       'tbimperator', 'Allahu_Akbar666', 'ulramite', '76561198080534850',\n",
       "       '-GM-Dragon', 'LeoRocksAce', '76561198054040292',\n",
       "       '76561198155458511', 'I_DID_911_JUST_SAYING', '76561198077035732',\n",
       "       '76561198072625764', 'A_Je_100', 'imagoatieatpoo', '750805',\n",
       "       '76561198080881726', 'Thatishayden', 'Flabbernackle',\n",
       "       'diabeticfuck', 'magicalpony', '76561197962104795',\n",
       "       '76561198054465623', '76561198074257942', 'aaropro', 'Aaron_ggf',\n",
       "       'abiam', '76561198037346576', 'FrankoWalker', 'LightfootSword7',\n",
       "       'DaDanMan', 'SALTTHEW0UND', 'express157', '76561198074644990',\n",
       "       '76561198064304806', '3456457568', 'TomoeMamiewe',\n",
       "       '76561198057086148', 'Acidius99', '76561198067150343', 'acorn13',\n",
       "       'adamcookie', 'AddzyTheBaddzy', '76561197997824340',\n",
       "       '76561198076154360', '76561198055524901', 'mradobe7', 'zomboy151',\n",
       "       '76561198167207237', 'cancerkek', 'matto1499', '76561198073508075',\n",
       "       '76561198090899557', '76561198072468669', 'Advancebest',\n",
       "       'advenger95', 'EndAtHallow', '76561198060820384',\n",
       "       '76561198063624801', 'aeryal', 'vault_brothers', 'After2night',\n",
       "       '76561198029090446', '76561197968819541', '76561198015968275',\n",
       "       'defender_10', 'Agiegamma', '76561198082614708',\n",
       "       '76561198066465411', 'Agronoth', 'UnholyFallenAngel',\n",
       "       'Ricardio556', 'madgamerzzz', '76561198068565589', 'SlutOnTheSpit',\n",
       "       'WestyGaming', 'NaruseAiria', '76561198265081359',\n",
       "       '76561198046844795', '76561198067713802', '76561198187212131',\n",
       "       'rjh91', 'alansiulun', 'Albolah', '76561198003056556',\n",
       "       '76561198063941075', '76561198088886304', 'maxpaynepillkiller',\n",
       "       '76561198056092813', '76561198095481910', '76561198089024454',\n",
       "       '76561198034129825', '76561198164545985', 'tninjat',\n",
       "       '76561198068935240', '76561198036955150', '76561198018840908',\n",
       "       'AlkalineDeath', '76561198075935236', 'Jupeter117', 'gsgg',\n",
       "       '76561198075258452', 'Jesusunholy', 'mintifreshbadger', 'HenryCT',\n",
       "       'AlpacaRevolution', '76561197996305896', 'AlphaBryn444',\n",
       "       '76561198009001563', '76561198016753953', 'smegmyfoodle',\n",
       "       'altas2011', 'silentbroadcaster', '76561198057869849',\n",
       "       'lol_ursuchanoob', 'rhysf', '76561198098156489',\n",
       "       '76561198040021446', '76561198035890730', 'AMV72',\n",
       "       '76561198069170979', '76561198085956238', '76561198132540690',\n",
       "       '711armageddoncarmageddon', '76561198058301224',\n",
       "       '76561198055326484', '76561198034868596', 'AncientBlade',\n",
       "       'Andraison', '76561198048401235', '76561198050465176',\n",
       "       '76561198026258913', '76561198069560699', '76561198099625419',\n",
       "       'someone6245', '76561198084032274', '76561198030772859',\n",
       "       'Angrovar', 'AngryAinsley', '76561198069005048',\n",
       "       '-AnimeIsMyThing-', 'uradumbtit', '76561198037038784',\n",
       "       'IKillNoobsFirst', '76561198037888300', 'operationblueberry',\n",
       "       '1234865654', 'antacy', '76561197992148038', '76561198084123358',\n",
       "       '76561198034942509', '76561198032377745', 'capitaomurilao',\n",
       "       'Apachehavoc', 'ApexNZ', '76561198039441595', '76561198036687918',\n",
       "       'Apollopepsi', 'benjamin27', 'AppoGetsSuperAdmin', 'ARRIVE',\n",
       "       '76561198071475367', 'r3ap3r78', 'Aquilares', '76561198065064829',\n",
       "       'XABLAUziitu', '76561198012909706', 'aarcanicuss', 'dragonchief',\n",
       "       '76561198040530605', '76561197974500703', '76561198047185525',\n",
       "       'mestuajix2', '76561198067188826', 'ArcticTek',\n",
       "       '76561197974465310', 'sweep6060', 'bilyitu', '76561198088538797',\n",
       "       '76561198089844789', '76561198072861800', 'deployablearchnagel',\n",
       "       'rotflmaoman', '76561198088670023', '76561198081028176',\n",
       "       'ArmouredForBattle', 'armouredmarshmallow', 'darrenfordfalcon',\n",
       "       '76561198020928326', '76561198045570160', 'arockstar28', 'Array71',\n",
       "       '76561198039874575', 'arronlim13', '76561198042389215',\n",
       "       '76561198006534186', 'artej96', 'ARTHERDUNGER10', 'Mackus1011',\n",
       "       '76561198041877981', 'ARZARNAR', '76561198089950447',\n",
       "       'darkmassieh', 'Boomblasty', 'asianturtlefrenzy', 'Edmund28',\n",
       "       'blowjobsfurdayzandgayz', '76561198082992295', 'LaLocaDeLosDulces',\n",
       "       '76561198096064761', '76561198064352761', 'assassin_warman',\n",
       "       '76561198019431054', 'Astrelt', 'bobjimmy007', '76561198091740831',\n",
       "       '76561198095380303', '76561198052003136', 'omgihaveawebpage',\n",
       "       'Swish0009', '76561198030943851', 'Aurora99', '76561198053071988',\n",
       "       'minionking', '76561198083375450', 'scroopy22'], dtype=object)"
      ]
     },
     "execution_count": 2036,
     "metadata": {},
     "output_type": "execute_result"
    }
   ],
   "source": [
    "data_user[\"user_id\"].unique()"
   ]
  },
  {
   "cell_type": "code",
   "execution_count": 2037,
   "metadata": {},
   "outputs": [],
   "source": [
    "# Si por ejemplo: \n",
    "User_id = \"Aurora99\""
   ]
  },
  {
   "cell_type": "code",
   "execution_count": 2038,
   "metadata": {},
   "outputs": [],
   "source": [
    "# Filtrar por usuario específico:\n",
    "df_user_specific = data_user[data_user[\"user_id\"] == User_id]"
   ]
  },
  {
   "cell_type": "code",
   "execution_count": 2039,
   "metadata": {},
   "outputs": [],
   "source": [
    "# Filtrar valores numéricos de price\n",
    "df_numerico = data_user[data_user[\"user_id\"].str.isnumeric()]  \n",
    "\n",
    "# Calcular la suma por usuario\n",
    "total_dinero_por_usuario = df_numerico.groupby(\"user_id\")[\"price\"].sum()"
   ]
  },
  {
   "cell_type": "code",
   "execution_count": 2040,
   "metadata": {},
   "outputs": [
    {
     "data": {
      "text/plain": [
       "user_id\n",
       "76561198187212131    109.0\n",
       "76561198188979775    150.0\n",
       "76561198203244300    276.0\n",
       "76561198215949741      6.0\n",
       "76561198265081359    160.0\n",
       "97396295             169.0\n",
       "Name: price, dtype: float64"
      ]
     },
     "execution_count": 2040,
     "metadata": {},
     "output_type": "execute_result"
    }
   ],
   "source": [
    "# Se calcula la cantidad de dinero gastado por usuario\n",
    "total_dinero_por_usuario.tail(6)"
   ]
  },
  {
   "cell_type": "code",
   "execution_count": 2041,
   "metadata": {},
   "outputs": [
    {
     "data": {
      "text/plain": [
       "array([ True, False])"
      ]
     },
     "execution_count": 2041,
     "metadata": {},
     "output_type": "execute_result"
    }
   ],
   "source": [
    "# Valores únicos de la columna recommend:\n",
    "data_user[\"recommend\"].unique()"
   ]
  },
  {
   "cell_type": "code",
   "execution_count": 2042,
   "metadata": {},
   "outputs": [],
   "source": [
    "# Cantidad de recommend en % por usuario:\n",
    "user_grouped = (\n",
    "    data_user.groupby(\"user_id\")[\"recommend\"]\n",
    "    .apply(lambda x: (x == True).mean() * 100)  # Calculate percentage\n",
    "    .reset_index(name=\"recommend_true_porcentaje\")\n",
    ")"
   ]
  },
  {
   "cell_type": "code",
   "execution_count": 2043,
   "metadata": {},
   "outputs": [],
   "source": [
    "# Cantidad de Items por usuario:\n",
    "user_counts = (\n",
    "    data_user.groupby(\"user_id\")\n",
    "    .size()  # Count items per user\n",
    "    .to_frame(name=\"items_count\")\n",
    "    .reset_index()\n",
    ")"
   ]
  },
  {
   "cell_type": "code",
   "execution_count": 2044,
   "metadata": {},
   "outputs": [],
   "source": [
    "# Segunda consulta:\n",
    "def UserData(User_id: str) -> dict: \n",
    "    ''' Se ingresa el Usuario por id y la función retorna el Cantidad de dinero gastado, Porcentaje de recomendación y Cantidad de Items '''\n",
    "    \n",
    "    df_user_specific = data_user[data_user[\"user_id\"] == User_id]\n",
    "\n",
    "    # Handle empty DataFrame gracefully\n",
    "    if df_user_specific.empty:\n",
    "        return {\n",
    "            \"Cantidad dinero gastado\": None,\n",
    "            \"Porcentaje de Recomendación\": None,\n",
    "            \"Cantidad de items\": None\n",
    "        }\n",
    "\n",
    "    total_dinero_por_usuario = df_user_specific.groupby(\"user_id\")[\"price\"].sum()\n",
    "    user_grouped = (\n",
    "        data_user.groupby(\"user_id\")[\"recommend\"]\n",
    "        .apply(lambda x: (x == True).mean() * 100)\n",
    "        .reset_index(name=\"recommend_true_porcentaje\")\n",
    "    )\n",
    "    user_counts = (\n",
    "        data_user.groupby(\"user_id\")\n",
    "        .size()\n",
    "        .to_frame(name=\"items_count\")\n",
    "        .reset_index()\n",
    "    )\n",
    "\n",
    "    # Utilice try-except para posibles errores de índice:\n",
    "    try:\n",
    "        total_spent = total_dinero_por_usuario.iloc[0]\n",
    "    except IndexError:\n",
    "        total_spent = None\n",
    "\n",
    "    try:\n",
    "        recommend_percentage = user_grouped[user_grouped[\"user_id\"] == User_id][\"recommend_true_porcentaje\"].iloc[0]\n",
    "    except IndexError:\n",
    "        recommend_percentage = None\n",
    "\n",
    "    try:\n",
    "        items_count = user_counts[user_counts[\"user_id\"] == User_id][\"items_count\"].iloc[0]\n",
    "    except IndexError:\n",
    "        items_count = None\n",
    "\n",
    "    output_m = {\n",
    "        \"Usuario\": User_id,\n",
    "        \"Cantidad dinero gastado en USD\": total_spent,\n",
    "        \"Porcentaje de Recomendación\": f\"{recommend_percentage:.1f}\",\n",
    "        \"Cantidad de items\": items_count\n",
    "    }\n",
    "\n",
    "    return output_m"
   ]
  },
  {
   "cell_type": "code",
   "execution_count": 2045,
   "metadata": {},
   "outputs": [
    {
     "data": {
      "text/plain": [
       "{'Usuario': 'Aurora99',\n",
       " 'Cantidad dinero gastado en USD': 1225.0,\n",
       " 'Porcentaje de Recomendación': '91.2',\n",
       " 'Cantidad de items': 136}"
      ]
     },
     "execution_count": 2045,
     "metadata": {},
     "output_type": "execute_result"
    }
   ],
   "source": [
    "UserData(\"Aurora99\")"
   ]
  },
  {
   "cell_type": "code",
   "execution_count": 2046,
   "metadata": {},
   "outputs": [
    {
     "data": {
      "text/plain": [
       "{'Usuario': 'js41637',\n",
       " 'Cantidad dinero gastado en USD': 7910.5,\n",
       " 'Porcentaje de Recomendación': '85.5',\n",
       " 'Cantidad de items': 888}"
      ]
     },
     "execution_count": 2046,
     "metadata": {},
     "output_type": "execute_result"
    }
   ],
   "source": [
    "UserData(\"js41637\")"
   ]
  },
  {
   "cell_type": "code",
   "execution_count": 2047,
   "metadata": {},
   "outputs": [
    {
     "data": {
      "text/plain": [
       "{'Usuario': '76561198187212131',\n",
       " 'Cantidad dinero gastado en USD': 109.0,\n",
       " 'Porcentaje de Recomendación': '96.6',\n",
       " 'Cantidad de items': 29}"
      ]
     },
     "execution_count": 2047,
     "metadata": {},
     "output_type": "execute_result"
    }
   ],
   "source": [
    "UserData(\"76561198187212131\")"
   ]
  },
  {
   "cell_type": "code",
   "execution_count": 2048,
   "metadata": {},
   "outputs": [
    {
     "data": {
      "text/plain": [
       "{'Usuario': 'scroopy22',\n",
       " 'Cantidad dinero gastado en USD': 2337.0,\n",
       " 'Porcentaje de Recomendación': '91.9',\n",
       " 'Cantidad de items': 309}"
      ]
     },
     "execution_count": 2048,
     "metadata": {},
     "output_type": "execute_result"
    }
   ],
   "source": [
    "UserData(\"scroopy22\")"
   ]
  },
  {
   "cell_type": "markdown",
   "metadata": {},
   "source": [
    "Consulta 3: def UserForGenre( genero : str ): Debe devolver el usuario que acumula más horas jugadas para el género dado y una lista de la acumulación de horas jugadas por año de lanzamiento.\n",
    "Ejemplo de retorno: {\"Usuario con más horas jugadas para Género X\" : us213ndjss09sdf, \"Horas jugadas\":[{Año: 2013, Horas: 203}, {Año: 2012, Horas: 100}, {Año: 2011, Horas: 23}]}"
   ]
  },
  {
   "cell_type": "code",
   "execution_count": 2049,
   "metadata": {},
   "outputs": [
    {
     "name": "stdout",
     "output_type": "stream",
     "text": [
      "<class 'pandas.core.frame.DataFrame'>\n",
      "RangeIndex: 74837 entries, 0 to 74836\n",
      "Data columns (total 5 columns):\n",
      " #   Column            Non-Null Count  Dtype \n",
      "---  ------            --------------  ----- \n",
      " 0   genres            74837 non-null  object\n",
      " 1   year              74837 non-null  object\n",
      " 2   id                74837 non-null  int64 \n",
      " 3   user_id           74837 non-null  object\n",
      " 4   playtime_forever  74837 non-null  int64 \n",
      "dtypes: int64(2), object(3)\n",
      "memory usage: 2.9+ MB\n"
     ]
    }
   ],
   "source": [
    "# user_id, playtime_forever, genres, year\n",
    "df_3.info()"
   ]
  },
  {
   "cell_type": "code",
   "execution_count": 2050,
   "metadata": {},
   "outputs": [
    {
     "data": {
      "text/plain": [
       "array(['Action', 'Casual', 'Indie', 'Simulation', 'Strategy',\n",
       "       'Free to Play', 'RPG', 'Sports', 'Adventure', '0', 'Racing',\n",
       "       'Early Access', 'Massively Multiplayer',\n",
       "       'Animation &amp; Modeling', 'Video Production', 'Utilities',\n",
       "       'Web Publishing', 'Education', 'Software Training',\n",
       "       'Design &amp; Illustration', 'Audio Production', 'Photo Editing',\n",
       "       'Accounting'], dtype=object)"
      ]
     },
     "execution_count": 2050,
     "metadata": {},
     "output_type": "execute_result"
    }
   ],
   "source": [
    "# Cuántos géneros existen en la dataframe?\n",
    "df_3[\"genres\"].unique()"
   ]
  },
  {
   "cell_type": "code",
   "execution_count": 2051,
   "metadata": {},
   "outputs": [
    {
     "data": {
      "text/plain": [
       "23"
      ]
     },
     "execution_count": 2051,
     "metadata": {},
     "output_type": "execute_result"
    }
   ],
   "source": [
    "# Cuántos en número\n",
    "df_3[\"genres\"].nunique()"
   ]
  },
  {
   "cell_type": "code",
   "execution_count": 2052,
   "metadata": {},
   "outputs": [],
   "source": [
    "# Data de Genre\n",
    "data_gen = df_3[[\"genres\", \"year\", \"user_id\", \"playtime_forever\"]]"
   ]
  },
  {
   "cell_type": "code",
   "execution_count": 2053,
   "metadata": {},
   "outputs": [],
   "source": [
    "# Extraer year\n",
    "filtered_df = df_3.dropna(subset=[\"year\"])"
   ]
  },
  {
   "cell_type": "code",
   "execution_count": 2054,
   "metadata": {},
   "outputs": [],
   "source": [
    "year_solo = df_3[\"year\"].str[:4]"
   ]
  },
  {
   "cell_type": "code",
   "execution_count": 2055,
   "metadata": {},
   "outputs": [],
   "source": [
    "# Ligar a la data de gen con nuevo nombre\n",
    "data_gen[\"year_only\"] = year_solo"
   ]
  },
  {
   "cell_type": "code",
   "execution_count": 2056,
   "metadata": {},
   "outputs": [],
   "source": [
    "# Incluir\n",
    "selected_columns = [\"genres\", \"playtime_forever\", \"user_id\"]\n",
    "data_gen_final = pd.concat([year_solo.rename(\"year_only\"), df_3[selected_columns]], axis=1)"
   ]
  },
  {
   "cell_type": "code",
   "execution_count": 2057,
   "metadata": {},
   "outputs": [],
   "source": [
    "# Data con year numérico\n",
    "data_gen_final[\"year_only\"] = pd.to_numeric(data_gen_final[\"year_only\"], errors=\"coerce\")"
   ]
  },
  {
   "cell_type": "code",
   "execution_count": 2058,
   "metadata": {},
   "outputs": [
    {
     "data": {
      "text/plain": [
       "array([2018., 2017.,   nan, 1997., 1998., 2016., 2006., 2005., 2003.,\n",
       "       2007., 2002., 2000., 1995., 1996., 1994., 2001., 1993., 2004.,\n",
       "       1999., 2008., 2009., 1992., 1989., 2010., 2011., 2013., 2012.,\n",
       "       2014., 1983., 1984., 2015., 1990., 1988., 1991., 1985., 1982.,\n",
       "       1987., 1981., 1986., 2021., 2019., 1975., 1970., 1980.])"
      ]
     },
     "execution_count": 2058,
     "metadata": {},
     "output_type": "execute_result"
    }
   ],
   "source": [
    "data_gen_final[\"year_only\"].unique()"
   ]
  },
  {
   "cell_type": "code",
   "execution_count": 2059,
   "metadata": {},
   "outputs": [],
   "source": [
    "# Rellenar los NaNs\n",
    "data_gen_final[\"year_only\"] = data_gen_final[\"year_only\"].fillna(-1)  # Rellenar con -1 (para evitar problemas XD)"
   ]
  },
  {
   "cell_type": "code",
   "execution_count": 2060,
   "metadata": {},
   "outputs": [],
   "source": [
    "# Ahora a convertir los tipos de datos:\n",
    "data_gen_final = data_gen_final.astype({\"genres\": str, \"year_only\": int, \"playtime_forever\": int, \"user_id\": str})"
   ]
  },
  {
   "cell_type": "code",
   "execution_count": 2061,
   "metadata": {},
   "outputs": [
    {
     "data": {
      "text/html": [
       "<div>\n",
       "<style scoped>\n",
       "    .dataframe tbody tr th:only-of-type {\n",
       "        vertical-align: middle;\n",
       "    }\n",
       "\n",
       "    .dataframe tbody tr th {\n",
       "        vertical-align: top;\n",
       "    }\n",
       "\n",
       "    .dataframe thead th {\n",
       "        text-align: right;\n",
       "    }\n",
       "</style>\n",
       "<table border=\"1\" class=\"dataframe\">\n",
       "  <thead>\n",
       "    <tr style=\"text-align: right;\">\n",
       "      <th></th>\n",
       "      <th>year_only</th>\n",
       "      <th>genres</th>\n",
       "      <th>playtime_forever</th>\n",
       "      <th>user_id</th>\n",
       "    </tr>\n",
       "  </thead>\n",
       "  <tbody>\n",
       "    <tr>\n",
       "      <th>0</th>\n",
       "      <td>2018</td>\n",
       "      <td>Action</td>\n",
       "      <td>6</td>\n",
       "      <td>76561197970982479</td>\n",
       "    </tr>\n",
       "    <tr>\n",
       "      <th>1</th>\n",
       "      <td>2018</td>\n",
       "      <td>Casual</td>\n",
       "      <td>0</td>\n",
       "      <td>76561197970982479</td>\n",
       "    </tr>\n",
       "  </tbody>\n",
       "</table>\n",
       "</div>"
      ],
      "text/plain": [
       "   year_only  genres  playtime_forever            user_id\n",
       "0       2018  Action                 6  76561197970982479\n",
       "1       2018  Casual                 0  76561197970982479"
      ]
     },
     "execution_count": 2061,
     "metadata": {},
     "output_type": "execute_result"
    }
   ],
   "source": [
    "data_gen_final.head(2)"
   ]
  },
  {
   "cell_type": "code",
   "execution_count": 2062,
   "metadata": {},
   "outputs": [
    {
     "name": "stdout",
     "output_type": "stream",
     "text": [
      "Action\n",
      "Casual\n",
      "Indie\n",
      "Simulation\n",
      "Strategy\n",
      "Free to Play\n",
      "RPG\n",
      "Sports\n",
      "Adventure\n",
      "0\n",
      "Racing\n",
      "Early Access\n",
      "Massively Multiplayer\n",
      "Animation &amp; Modeling\n",
      "Video Production\n",
      "Utilities\n",
      "Web Publishing\n",
      "Education\n",
      "Software Training\n",
      "Design &amp; Illustration\n",
      "Audio Production\n",
      "Photo Editing\n",
      "Accounting\n"
     ]
    }
   ],
   "source": [
    "# Generar una lista de los géneros\n",
    "genres_list = data_gen_final[\"genres\"].unique().tolist()\n",
    "for genero in genres_list:\n",
    "    print(genero)"
   ]
  },
  {
   "cell_type": "code",
   "execution_count": 2063,
   "metadata": {},
   "outputs": [],
   "source": [
    "# Género si se introduce con minúscula, funcione igual:\n",
    "genre_data = data_gen_final[data_gen_final[\"genres\"].str.lower() == genero]"
   ]
  },
  {
   "cell_type": "code",
   "execution_count": 2064,
   "metadata": {},
   "outputs": [
    {
     "data": {
      "text/html": [
       "<div>\n",
       "<style scoped>\n",
       "    .dataframe tbody tr th:only-of-type {\n",
       "        vertical-align: middle;\n",
       "    }\n",
       "\n",
       "    .dataframe tbody tr th {\n",
       "        vertical-align: top;\n",
       "    }\n",
       "\n",
       "    .dataframe thead th {\n",
       "        text-align: right;\n",
       "    }\n",
       "</style>\n",
       "<table border=\"1\" class=\"dataframe\">\n",
       "  <thead>\n",
       "    <tr style=\"text-align: right;\">\n",
       "      <th></th>\n",
       "      <th>user_id</th>\n",
       "      <th>genres</th>\n",
       "      <th>playtime_forever</th>\n",
       "    </tr>\n",
       "  </thead>\n",
       "  <tbody>\n",
       "    <tr>\n",
       "      <th>6224</th>\n",
       "      <td>StelerForYou</td>\n",
       "      <td>0</td>\n",
       "      <td>175944</td>\n",
       "    </tr>\n",
       "    <tr>\n",
       "      <th>5307</th>\n",
       "      <td>EndAtHallow</td>\n",
       "      <td>Accounting</td>\n",
       "      <td>1805</td>\n",
       "    </tr>\n",
       "  </tbody>\n",
       "</table>\n",
       "</div>"
      ],
      "text/plain": [
       "           user_id      genres  playtime_forever\n",
       "6224  StelerForYou           0            175944\n",
       "5307   EndAtHallow  Accounting              1805"
      ]
     },
     "execution_count": 2064,
     "metadata": {},
     "output_type": "execute_result"
    }
   ],
   "source": [
    "# Calcular la suma total de horas jugadas por usuario y género\n",
    "user_genre_playtime = data_gen_final.groupby([\"user_id\", \"genres\"])[\"playtime_forever\"].sum().reset_index()\n",
    "\n",
    "# Encontrar el usuario que acumula más horas jugadas por género\n",
    "max_playtime_per_genre = user_genre_playtime.loc[user_genre_playtime.groupby(\"genres\")[\"playtime_forever\"].idxmax()]\n",
    "\n",
    "# Imprimir o trabajar con los resultados\n",
    "max_playtime_per_genre.head(2)"
   ]
  },
  {
   "cell_type": "code",
   "execution_count": 2065,
   "metadata": {},
   "outputs": [
    {
     "data": {
      "text/html": [
       "<div>\n",
       "<style scoped>\n",
       "    .dataframe tbody tr th:only-of-type {\n",
       "        vertical-align: middle;\n",
       "    }\n",
       "\n",
       "    .dataframe tbody tr th {\n",
       "        vertical-align: top;\n",
       "    }\n",
       "\n",
       "    .dataframe thead th {\n",
       "        text-align: right;\n",
       "    }\n",
       "</style>\n",
       "<table border=\"1\" class=\"dataframe\">\n",
       "  <thead>\n",
       "    <tr style=\"text-align: right;\">\n",
       "      <th></th>\n",
       "      <th>year_only</th>\n",
       "      <th>genres</th>\n",
       "      <th>playtime_forever</th>\n",
       "      <th>user_id</th>\n",
       "    </tr>\n",
       "  </thead>\n",
       "  <tbody>\n",
       "    <tr>\n",
       "      <th>58449</th>\n",
       "      <td>2015</td>\n",
       "      <td>Indie</td>\n",
       "      <td>1170</td>\n",
       "      <td>Aurora99</td>\n",
       "    </tr>\n",
       "    <tr>\n",
       "      <th>58450</th>\n",
       "      <td>2015</td>\n",
       "      <td>RPG</td>\n",
       "      <td>134</td>\n",
       "      <td>Aurora99</td>\n",
       "    </tr>\n",
       "  </tbody>\n",
       "</table>\n",
       "</div>"
      ],
      "text/plain": [
       "       year_only genres  playtime_forever   user_id\n",
       "58449       2015  Indie              1170  Aurora99\n",
       "58450       2015    RPG               134  Aurora99"
      ]
     },
     "execution_count": 2065,
     "metadata": {},
     "output_type": "execute_result"
    }
   ],
   "source": [
    "# Lista de usuarios\n",
    "user_id_data = data_gen_final[data_gen_final[\"user_id\"] == User_id]\n",
    "user_id_data.head(2)"
   ]
  },
  {
   "cell_type": "code",
   "execution_count": 2066,
   "metadata": {},
   "outputs": [
    {
     "data": {
      "text/html": [
       "<div>\n",
       "<style scoped>\n",
       "    .dataframe tbody tr th:only-of-type {\n",
       "        vertical-align: middle;\n",
       "    }\n",
       "\n",
       "    .dataframe tbody tr th {\n",
       "        vertical-align: top;\n",
       "    }\n",
       "\n",
       "    .dataframe thead th {\n",
       "        text-align: right;\n",
       "    }\n",
       "</style>\n",
       "<table border=\"1\" class=\"dataframe\">\n",
       "  <thead>\n",
       "    <tr style=\"text-align: right;\">\n",
       "      <th></th>\n",
       "      <th>user_id</th>\n",
       "      <th>year_only</th>\n",
       "      <th>playtime_forever</th>\n",
       "    </tr>\n",
       "  </thead>\n",
       "  <tbody>\n",
       "    <tr>\n",
       "      <th>0</th>\n",
       "      <td>-AnimeIsMyThing-</td>\n",
       "      <td>-1</td>\n",
       "      <td>10193</td>\n",
       "    </tr>\n",
       "    <tr>\n",
       "      <th>1</th>\n",
       "      <td>-AnimeIsMyThing-</td>\n",
       "      <td>2012</td>\n",
       "      <td>536</td>\n",
       "    </tr>\n",
       "  </tbody>\n",
       "</table>\n",
       "</div>"
      ],
      "text/plain": [
       "            user_id  year_only  playtime_forever\n",
       "0  -AnimeIsMyThing-         -1             10193\n",
       "1  -AnimeIsMyThing-       2012               536"
      ]
     },
     "execution_count": 2066,
     "metadata": {},
     "output_type": "execute_result"
    }
   ],
   "source": [
    "# Calcular la suma total de horas jugadas por año\n",
    "playtime_per_year = data_gen_final.groupby([\"user_id\", \"year_only\"])[\"playtime_forever\"].sum().reset_index()\n",
    "\n",
    "playtime_per_year.head(2)"
   ]
  },
  {
   "cell_type": "code",
   "execution_count": 2067,
   "metadata": {},
   "outputs": [],
   "source": [
    "# Tercera Consulta:\n",
    "def UserForGenre(genero: str):\n",
    "\n",
    "    ''' Se ingresa algún Género y la función devuelve el Usuario con más horas de juego acumuladas \n",
    "        y la lista de horas de juego acumuladas por Año de Lanzamiento'''\n",
    "    \n",
    "    # Género si se introduce con minúscula, que funcione igual:\n",
    "    genre_data = data_gen_final[data_gen_final[\"genres\"].str.lower() == genero]\n",
    "\n",
    "    # Verificar si el género está presente en el DataFrame\n",
    "    if genero not in data_gen_final[\"genres\"].str.lower().unique():\n",
    "        return {\"Error\": f\"El género '{genero}' no se encuentra en el conjunto de datos.\"}\n",
    "\n",
    "    # Calcular la suma total de horas jugadas por usuario y género\n",
    "    user_genre_playtime = data_gen_final.groupby([\"user_id\", \"genres\"])[\"playtime_forever\"].sum().reset_index()\n",
    "\n",
    "  #1   # Encontrar el usuario que acumula más horas jugadas por género\n",
    "    max_playtime_per_genre = user_genre_playtime.loc[user_genre_playtime.groupby(\"genres\")[\"playtime_forever\"].idxmax()]\n",
    "\n",
    "  #2  # Calcular la suma total de horas jugadas por año y por usuario\n",
    "    playtime_per_year = data_gen_final.groupby([\"user_id\", \"year_only\"])[\"playtime_forever\"].sum().reset_index()\n",
    "\n",
    "\n",
    "    # Crear una lista de diccionarios con años y horas jugadas para cada año\n",
    "    horas_por_agno = []\n",
    "\n",
    "    available_years = playtime_per_year.loc[playtime_per_year[\"user_id\"] == max_playtime_per_genre, \"year_only\"].unique()\n",
    "\n",
    "    for year in available_years:\n",
    "        horas_año = playtime_per_year[(playtime_per_year[\"user_id\"] == max_playtime_per_genre) & (playtime_per_year[\"year_only\"] == year)][\"playtime_forever\"].sum()\n",
    "        if horas_año > 0:\n",
    "            horas_por_agno.append({'Año': int(year), 'Horas': int(horas_año)})\n",
    "\n",
    "        \n",
    "    # Construir el diccionario final\n",
    "    user_gnr_result = {\n",
    "        f\"Usuario con más horas jugadas para Género {genero}\": max_playtime_per_genre,\n",
    "        \"Horas jugadas\": horas_por_agno\n",
    "    }\n",
    "    return user_gnr_result"
   ]
  },
  {
   "cell_type": "code",
   "execution_count": 2068,
   "metadata": {},
   "outputs": [
    {
     "data": {
      "text/plain": [
       "{'Error': \"El género 'Action' no se encuentra en el conjunto de datos.\"}"
      ]
     },
     "execution_count": 2068,
     "metadata": {},
     "output_type": "execute_result"
    }
   ],
   "source": [
    "UserForGenre(\"Action\")"
   ]
  },
  {
   "cell_type": "code",
   "execution_count": 2069,
   "metadata": {},
   "outputs": [
    {
     "data": {
      "text/plain": [
       "{'Error': \"El género 'Adventure' no se encuentra en el conjunto de datos.\"}"
      ]
     },
     "execution_count": 2069,
     "metadata": {},
     "output_type": "execute_result"
    }
   ],
   "source": [
    "UserForGenre(\"Adventure\")"
   ]
  },
  {
   "cell_type": "code",
   "execution_count": 2070,
   "metadata": {},
   "outputs": [
    {
     "data": {
      "text/plain": [
       "{'Error': \"El género 'Free to play' no se encuentra en el conjunto de datos.\"}"
      ]
     },
     "execution_count": 2070,
     "metadata": {},
     "output_type": "execute_result"
    }
   ],
   "source": [
    "UserForGenre(\"Free to play\")"
   ]
  },
  {
   "cell_type": "markdown",
   "metadata": {},
   "source": [
    "Consulta 4: def best_developer_year( año : int ): Devuelve el top 3 de desarrolladores con juegos MÁS recomendados por usuarios para el año dado. (reviews.recommend = True y comentarios positivos)\n",
    "Ejemplo de retorno: [{\"Puesto 1\" : X}, {\"Puesto 2\" : Y},{\"Puesto 3\" : Z}]"
   ]
  },
  {
   "cell_type": "code",
   "execution_count": 2071,
   "metadata": {},
   "outputs": [
    {
     "name": "stdout",
     "output_type": "stream",
     "text": [
      "<class 'pandas.core.frame.DataFrame'>\n",
      "RangeIndex: 59305 entries, 0 to 59304\n",
      "Data columns (total 6 columns):\n",
      " #   Column       Non-Null Count  Dtype \n",
      "---  ------       --------------  ----- \n",
      " 0   price        59305 non-null  object\n",
      " 1   id           59305 non-null  int64 \n",
      " 2   user_id      59305 non-null  object\n",
      " 3   items_count  59305 non-null  int64 \n",
      " 4   item_name    59305 non-null  object\n",
      " 5   recommend    59305 non-null  bool  \n",
      "dtypes: bool(1), int64(2), object(3)\n",
      "memory usage: 2.3+ MB\n"
     ]
    }
   ],
   "source": [
    "# Información de\n",
    "df_2.info()"
   ]
  },
  {
   "cell_type": "code",
   "execution_count": 2072,
   "metadata": {},
   "outputs": [
    {
     "name": "stdout",
     "output_type": "stream",
     "text": [
      "<class 'pandas.core.frame.DataFrame'>\n",
      "RangeIndex: 59305 entries, 0 to 59304\n",
      "Data columns (total 5 columns):\n",
      " #   Column     Non-Null Count  Dtype \n",
      "---  ------     --------------  ----- \n",
      " 0   developer  59305 non-null  object\n",
      " 1   year       59305 non-null  object\n",
      " 2   id         59305 non-null  int64 \n",
      " 3   user_id    59305 non-null  object\n",
      " 4   recommend  59305 non-null  bool  \n",
      "dtypes: bool(1), int64(1), object(3)\n",
      "memory usage: 1.9+ MB\n"
     ]
    }
   ],
   "source": [
    "# Información de\n",
    "df_4.info()"
   ]
  },
  {
   "cell_type": "code",
   "execution_count": 2073,
   "metadata": {},
   "outputs": [
    {
     "name": "stdout",
     "output_type": "stream",
     "text": [
      "<class 'pandas.core.frame.DataFrame'>\n",
      "RangeIndex: 59305 entries, 0 to 59304\n",
      "Data columns (total 4 columns):\n",
      " #   Column              Non-Null Count  Dtype \n",
      "---  ------              --------------  ----- \n",
      " 0   developer           59305 non-null  object\n",
      " 1   id                  59305 non-null  int64 \n",
      " 2   user_id             59305 non-null  object\n",
      " 3   sentiment_analysis  59305 non-null  int64 \n",
      "dtypes: int64(2), object(2)\n",
      "memory usage: 1.8+ MB\n"
     ]
    }
   ],
   "source": [
    "# Ver info de \n",
    "df_5.info() # Sumarle year y sentiment_analysis"
   ]
  },
  {
   "cell_type": "code",
   "execution_count": 2074,
   "metadata": {},
   "outputs": [],
   "source": [
    "# Unión de item_name que se olvidó en las combinaciones anteriores\n",
    "df_unido_2_5 = pd.merge(df_2[[\"item_name\"]],\n",
    "                         df_5[[\"sentiment_analysis\", \"user_id\", \"id\", \"developer\"]],\n",
    "                      left_index=True, right_index=True)"
   ]
  },
  {
   "cell_type": "code",
   "execution_count": 2075,
   "metadata": {},
   "outputs": [
    {
     "data": {
      "text/html": [
       "<div>\n",
       "<style scoped>\n",
       "    .dataframe tbody tr th:only-of-type {\n",
       "        vertical-align: middle;\n",
       "    }\n",
       "\n",
       "    .dataframe tbody tr th {\n",
       "        vertical-align: top;\n",
       "    }\n",
       "\n",
       "    .dataframe thead th {\n",
       "        text-align: right;\n",
       "    }\n",
       "</style>\n",
       "<table border=\"1\" class=\"dataframe\">\n",
       "  <thead>\n",
       "    <tr style=\"text-align: right;\">\n",
       "      <th></th>\n",
       "      <th>year</th>\n",
       "      <th>recommend</th>\n",
       "      <th>sentiment_analysis</th>\n",
       "      <th>item_name</th>\n",
       "      <th>user_id</th>\n",
       "      <th>id</th>\n",
       "      <th>developer</th>\n",
       "    </tr>\n",
       "  </thead>\n",
       "  <tbody>\n",
       "    <tr>\n",
       "      <th>0</th>\n",
       "      <td>2018-01-01 00:00:00</td>\n",
       "      <td>True</td>\n",
       "      <td>2</td>\n",
       "      <td>Counter-Strike</td>\n",
       "      <td>76561197970982479</td>\n",
       "      <td>761140</td>\n",
       "      <td>Kotoshiro</td>\n",
       "    </tr>\n",
       "    <tr>\n",
       "      <th>1</th>\n",
       "      <td>2018-01-01 00:00:00</td>\n",
       "      <td>True</td>\n",
       "      <td>2</td>\n",
       "      <td>Team Fortress Classic</td>\n",
       "      <td>76561197970982479</td>\n",
       "      <td>761140</td>\n",
       "      <td>Kotoshiro</td>\n",
       "    </tr>\n",
       "  </tbody>\n",
       "</table>\n",
       "</div>"
      ],
      "text/plain": [
       "                  year  recommend  sentiment_analysis              item_name  \\\n",
       "0  2018-01-01 00:00:00       True                   2         Counter-Strike   \n",
       "1  2018-01-01 00:00:00       True                   2  Team Fortress Classic   \n",
       "\n",
       "             user_id      id  developer  \n",
       "0  76561197970982479  761140  Kotoshiro  \n",
       "1  76561197970982479  761140  Kotoshiro  "
      ]
     },
     "execution_count": 2075,
     "metadata": {},
     "output_type": "execute_result"
    }
   ],
   "source": [
    "# Archivo final para trabajar con desarrollador y juegos recomendados\n",
    "df_unido_best = pd.merge(df_4[[\"year\", \"recommend\"]],\n",
    "                         df_unido_2_5[[\"sentiment_analysis\", \"item_name\", \"user_id\", \"id\", \"developer\"]],\n",
    "                      left_index=True, right_index=True)\n",
    "df_unido_best.head(2)"
   ]
  },
  {
   "cell_type": "code",
   "execution_count": 2076,
   "metadata": {},
   "outputs": [],
   "source": [
    "# Extraer year\n",
    "year_best = df_unido_best[\"year\"].str[:4]"
   ]
  },
  {
   "cell_type": "code",
   "execution_count": 2077,
   "metadata": {},
   "outputs": [],
   "source": [
    "# Ligar a la data de best con nombre nuevo\n",
    "df_unido_best[\"year_soli\"] = year_best"
   ]
  },
  {
   "cell_type": "code",
   "execution_count": 2078,
   "metadata": {},
   "outputs": [],
   "source": [
    "# Incluir\n",
    "selected_column_best = [\"recommend\", \"item_name\", \"sentiment_analysis\", \"user_id\", \"id\", \"developer\"]\n",
    "data_best_final = pd.concat([year_best.rename(\"year_soli\"), df_unido_best[selected_column_best]], axis=1)"
   ]
  },
  {
   "cell_type": "code",
   "execution_count": 2079,
   "metadata": {},
   "outputs": [],
   "source": [
    "# Data con year numérico\n",
    "data_best_final[\"year_soli\"] = pd.to_numeric(data_best_final[\"year_soli\"], errors=\"coerce\")"
   ]
  },
  {
   "cell_type": "code",
   "execution_count": 2080,
   "metadata": {},
   "outputs": [
    {
     "data": {
      "text/plain": [
       "array([2018., 2017.,   nan, 1997., 1998., 2016., 2006., 2005., 2003.,\n",
       "       2007., 2002., 2000., 1995., 1996., 1994., 2001., 1993., 2004.,\n",
       "       1999., 2008., 2009., 1992., 1989., 2010., 2011., 2013., 2012.,\n",
       "       2014., 1983., 1984., 2015., 1990., 1988., 1991., 1985., 1982.,\n",
       "       1987., 1981., 1986., 2021., 2019., 1975., 1970., 1980.])"
      ]
     },
     "execution_count": 2080,
     "metadata": {},
     "output_type": "execute_result"
    }
   ],
   "source": [
    "data_best_final[\"year_soli\"].unique()"
   ]
  },
  {
   "cell_type": "code",
   "execution_count": 2081,
   "metadata": {},
   "outputs": [],
   "source": [
    "# Rellenar los NaNs\n",
    "data_best_final[\"year_soli\"] = data_best_final[\"year_soli\"].fillna(-1)  # Rellenar con -1 (para evitar problemas XD)"
   ]
  },
  {
   "cell_type": "code",
   "execution_count": 2082,
   "metadata": {},
   "outputs": [
    {
     "name": "stdout",
     "output_type": "stream",
     "text": [
      "<class 'pandas.core.frame.DataFrame'>\n",
      "RangeIndex: 59305 entries, 0 to 59304\n",
      "Data columns (total 7 columns):\n",
      " #   Column              Non-Null Count  Dtype  \n",
      "---  ------              --------------  -----  \n",
      " 0   year_soli           59305 non-null  float64\n",
      " 1   recommend           59305 non-null  bool   \n",
      " 2   item_name           59305 non-null  object \n",
      " 3   sentiment_analysis  59305 non-null  int64  \n",
      " 4   user_id             59305 non-null  object \n",
      " 5   id                  59305 non-null  int64  \n",
      " 6   developer           59305 non-null  object \n",
      "dtypes: bool(1), float64(1), int64(2), object(3)\n",
      "memory usage: 2.8+ MB\n"
     ]
    }
   ],
   "source": [
    "# Información de\n",
    "data_best_final.info()"
   ]
  },
  {
   "cell_type": "code",
   "execution_count": 2083,
   "metadata": {},
   "outputs": [],
   "source": [
    "# Ahora a convertir los tipo de datos:\n",
    "data_best_final = data_best_final.astype({\"year_soli\": int, \"recommend\": bool, \n",
    "                                          \"item_name\": str, \"sentiment_analysis\": int, \"user_id\": str, \"id\": int, \"developer\": str})"
   ]
  },
  {
   "cell_type": "code",
   "execution_count": 2084,
   "metadata": {},
   "outputs": [
    {
     "data": {
      "text/html": [
       "<div>\n",
       "<style scoped>\n",
       "    .dataframe tbody tr th:only-of-type {\n",
       "        vertical-align: middle;\n",
       "    }\n",
       "\n",
       "    .dataframe tbody tr th {\n",
       "        vertical-align: top;\n",
       "    }\n",
       "\n",
       "    .dataframe thead th {\n",
       "        text-align: right;\n",
       "    }\n",
       "</style>\n",
       "<table border=\"1\" class=\"dataframe\">\n",
       "  <thead>\n",
       "    <tr style=\"text-align: right;\">\n",
       "      <th></th>\n",
       "      <th>year_soli</th>\n",
       "      <th>recommend</th>\n",
       "      <th>item_name</th>\n",
       "      <th>sentiment_analysis</th>\n",
       "      <th>user_id</th>\n",
       "      <th>id</th>\n",
       "      <th>developer</th>\n",
       "    </tr>\n",
       "  </thead>\n",
       "  <tbody>\n",
       "    <tr>\n",
       "      <th>0</th>\n",
       "      <td>2018</td>\n",
       "      <td>True</td>\n",
       "      <td>Counter-Strike</td>\n",
       "      <td>2</td>\n",
       "      <td>76561197970982479</td>\n",
       "      <td>761140</td>\n",
       "      <td>Kotoshiro</td>\n",
       "    </tr>\n",
       "    <tr>\n",
       "      <th>1</th>\n",
       "      <td>2018</td>\n",
       "      <td>True</td>\n",
       "      <td>Team Fortress Classic</td>\n",
       "      <td>2</td>\n",
       "      <td>76561197970982479</td>\n",
       "      <td>761140</td>\n",
       "      <td>Kotoshiro</td>\n",
       "    </tr>\n",
       "    <tr>\n",
       "      <th>2</th>\n",
       "      <td>2018</td>\n",
       "      <td>True</td>\n",
       "      <td>Day of Defeat</td>\n",
       "      <td>2</td>\n",
       "      <td>76561197970982479</td>\n",
       "      <td>761140</td>\n",
       "      <td>Kotoshiro</td>\n",
       "    </tr>\n",
       "    <tr>\n",
       "      <th>3</th>\n",
       "      <td>2018</td>\n",
       "      <td>True</td>\n",
       "      <td>Deathmatch Classic</td>\n",
       "      <td>2</td>\n",
       "      <td>js41637</td>\n",
       "      <td>761140</td>\n",
       "      <td>Kotoshiro</td>\n",
       "    </tr>\n",
       "    <tr>\n",
       "      <th>4</th>\n",
       "      <td>2018</td>\n",
       "      <td>True</td>\n",
       "      <td>Half-Life: Opposing Force</td>\n",
       "      <td>2</td>\n",
       "      <td>js41637</td>\n",
       "      <td>761140</td>\n",
       "      <td>Kotoshiro</td>\n",
       "    </tr>\n",
       "    <tr>\n",
       "      <th>5</th>\n",
       "      <td>2018</td>\n",
       "      <td>True</td>\n",
       "      <td>Ricochet</td>\n",
       "      <td>2</td>\n",
       "      <td>js41637</td>\n",
       "      <td>643980</td>\n",
       "      <td>Secret Level SRL</td>\n",
       "    </tr>\n",
       "    <tr>\n",
       "      <th>6</th>\n",
       "      <td>2018</td>\n",
       "      <td>True</td>\n",
       "      <td>Half-Life</td>\n",
       "      <td>0</td>\n",
       "      <td>evcentric</td>\n",
       "      <td>643980</td>\n",
       "      <td>Secret Level SRL</td>\n",
       "    </tr>\n",
       "    <tr>\n",
       "      <th>7</th>\n",
       "      <td>2018</td>\n",
       "      <td>True</td>\n",
       "      <td>Half-Life: Blue Shift</td>\n",
       "      <td>2</td>\n",
       "      <td>evcentric</td>\n",
       "      <td>643980</td>\n",
       "      <td>Secret Level SRL</td>\n",
       "    </tr>\n",
       "    <tr>\n",
       "      <th>8</th>\n",
       "      <td>2018</td>\n",
       "      <td>True</td>\n",
       "      <td>Day of Defeat: Source</td>\n",
       "      <td>2</td>\n",
       "      <td>evcentric</td>\n",
       "      <td>643980</td>\n",
       "      <td>Secret Level SRL</td>\n",
       "    </tr>\n",
       "    <tr>\n",
       "      <th>9</th>\n",
       "      <td>2017</td>\n",
       "      <td>True</td>\n",
       "      <td>Counter-Strike: Source</td>\n",
       "      <td>1</td>\n",
       "      <td>evcentric</td>\n",
       "      <td>670290</td>\n",
       "      <td>Poolians.com</td>\n",
       "    </tr>\n",
       "  </tbody>\n",
       "</table>\n",
       "</div>"
      ],
      "text/plain": [
       "   year_soli  recommend                  item_name  sentiment_analysis  \\\n",
       "0       2018       True             Counter-Strike                   2   \n",
       "1       2018       True      Team Fortress Classic                   2   \n",
       "2       2018       True              Day of Defeat                   2   \n",
       "3       2018       True         Deathmatch Classic                   2   \n",
       "4       2018       True  Half-Life: Opposing Force                   2   \n",
       "5       2018       True                   Ricochet                   2   \n",
       "6       2018       True                  Half-Life                   0   \n",
       "7       2018       True      Half-Life: Blue Shift                   2   \n",
       "8       2018       True      Day of Defeat: Source                   2   \n",
       "9       2017       True     Counter-Strike: Source                   1   \n",
       "\n",
       "             user_id      id         developer  \n",
       "0  76561197970982479  761140         Kotoshiro  \n",
       "1  76561197970982479  761140         Kotoshiro  \n",
       "2  76561197970982479  761140         Kotoshiro  \n",
       "3            js41637  761140         Kotoshiro  \n",
       "4            js41637  761140         Kotoshiro  \n",
       "5            js41637  643980  Secret Level SRL  \n",
       "6          evcentric  643980  Secret Level SRL  \n",
       "7          evcentric  643980  Secret Level SRL  \n",
       "8          evcentric  643980  Secret Level SRL  \n",
       "9          evcentric  670290      Poolians.com  "
      ]
     },
     "execution_count": 2084,
     "metadata": {},
     "output_type": "execute_result"
    }
   ],
   "source": [
    "data_best_final.head(10)"
   ]
  },
  {
   "cell_type": "code",
   "execution_count": 2085,
   "metadata": {},
   "outputs": [],
   "source": [
    "# Se escoge un año para pruebas\n",
    "year_demo = 2002\n",
    "# Se filtra el DataFrame para el año dado\n",
    "year_data = data_best_final[(data_best_final[\"year_soli\"] == year_demo) & (data_best_final[\"sentiment_analysis\"] == 2)]"
   ]
  },
  {
   "cell_type": "code",
   "execution_count": 2086,
   "metadata": {},
   "outputs": [
    {
     "data": {
      "text/plain": [
       "developer\n",
       "0                      7\n",
       "Digital Fusion Inc.    3\n",
       "Croteam                2\n",
       "dtype: int64"
      ]
     },
     "execution_count": 2086,
     "metadata": {},
     "output_type": "execute_result"
    }
   ],
   "source": [
    "# Se obtienen los 3 principales desarrolladores con más juegos recomendados por usuarios\n",
    "top_developers = year_data.groupby(\"developer\").size().nlargest(3)\n",
    "top_developers"
   ]
  },
  {
   "cell_type": "code",
   "execution_count": 2087,
   "metadata": {},
   "outputs": [
    {
     "data": {
      "text/plain": [
       "[{'Puesto 1': '0'},\n",
       " {'Puesto 2': 'Digital Fusion Inc.'},\n",
       " {'Puesto 3': 'Croteam'}]"
      ]
     },
     "execution_count": 2087,
     "metadata": {},
     "output_type": "execute_result"
    }
   ],
   "source": [
    "# Se construye el diccionario con el resultado\n",
    "result_desarr = [{\"Puesto 1\": top_developers.index[0]}, {\"Puesto 2\": top_developers.index[1]}, {\"Puesto 3\": top_developers.index[2]}]\n",
    "result_desarr"
   ]
  },
  {
   "cell_type": "code",
   "execution_count": 2088,
   "metadata": {},
   "outputs": [],
   "source": [
    "# Cuarta Consulta:\n",
    "def TopDeveloper(year_demo: int): \n",
    "    \n",
    "    ''' Se ingresa el Año y la función entrega el top 3 de desarrolladores con más recomendaciones por usuario '''\n",
    "\n",
    "    # Se filtra el DataFrame para el año dado\n",
    "    year_data = data_best_final[(data_best_final[\"year_soli\"] == year_demo) & (data_best_final[\"sentiment_analysis\"] == 2)]\n",
    "\n",
    "    # Se obtienen los 3 principales desarrolladores con más juegos recomendados por usuarios\n",
    "    top_developers = year_data.groupby(\"developer\").size().nlargest(3)\n",
    "\n",
    "    # Se construye el diccionario con el resultado\n",
    "    result_desarr = {\"Puesto 1\": top_developers.index[0]}, {\"Puesto 2\": top_developers.index[1]}, {\"Puesto 3\": top_developers.index[2]}\n",
    "\n",
    "    return result_desarr"
   ]
  },
  {
   "cell_type": "code",
   "execution_count": 2089,
   "metadata": {},
   "outputs": [
    {
     "data": {
      "text/plain": [
       "({'Puesto 1': 'SmiteWorks USA, LLC'},\n",
       " {'Puesto 2': 'Ubisoft - San Francisco'},\n",
       " {'Puesto 3': 'DL Softworks'})"
      ]
     },
     "execution_count": 2089,
     "metadata": {},
     "output_type": "execute_result"
    }
   ],
   "source": [
    "TopDeveloper(2016)"
   ]
  },
  {
   "cell_type": "code",
   "execution_count": 2090,
   "metadata": {},
   "outputs": [
    {
     "data": {
      "text/plain": [
       "({'Puesto 1': '0'},\n",
       " {'Puesto 2': 'Digital Fusion Inc.'},\n",
       " {'Puesto 3': 'Humongous Entertainment'})"
      ]
     },
     "execution_count": 2090,
     "metadata": {},
     "output_type": "execute_result"
    }
   ],
   "source": [
    "TopDeveloper(2000)"
   ]
  },
  {
   "cell_type": "code",
   "execution_count": 2091,
   "metadata": {},
   "outputs": [
    {
     "data": {
      "text/plain": [
       "({'Puesto 1': 'SEGA'}, {'Puesto 2': '0'}, {'Puesto 3': 'baKno Games'})"
      ]
     },
     "execution_count": 2091,
     "metadata": {},
     "output_type": "execute_result"
    }
   ],
   "source": [
    "TopDeveloper(2010)"
   ]
  },
  {
   "cell_type": "markdown",
   "metadata": {},
   "source": [
    "Consulta 5: def developer_reviews_analysis( desarrolladora : str ): Según el desarrollador, se devuelve un diccionario con el nombre del desarrollador como llave y una lista con la cantidad total de registros de reseñas de usuarios que se encuentren categorizados con un análisis de sentimiento como valor positivo o negativo.\n",
    "Ejemplo de retorno: {'Valve' : [Negative = 182, Positive = 278]}\n",
    "''' Se ingresa un nombre de desarrollador y la función devuelve un diccionario con la cantidad de registros de reseñas de usuarios\n",
    "con análisis de sentimientos, negativo o positivo'''"
   ]
  },
  {
   "cell_type": "code",
   "execution_count": 2092,
   "metadata": {},
   "outputs": [
    {
     "data": {
      "text/html": [
       "<div>\n",
       "<style scoped>\n",
       "    .dataframe tbody tr th:only-of-type {\n",
       "        vertical-align: middle;\n",
       "    }\n",
       "\n",
       "    .dataframe tbody tr th {\n",
       "        vertical-align: top;\n",
       "    }\n",
       "\n",
       "    .dataframe thead th {\n",
       "        text-align: right;\n",
       "    }\n",
       "</style>\n",
       "<table border=\"1\" class=\"dataframe\">\n",
       "  <thead>\n",
       "    <tr style=\"text-align: right;\">\n",
       "      <th></th>\n",
       "      <th>year_soli</th>\n",
       "      <th>recommend</th>\n",
       "      <th>item_name</th>\n",
       "      <th>sentiment_analysis</th>\n",
       "      <th>user_id</th>\n",
       "      <th>id</th>\n",
       "      <th>developer</th>\n",
       "    </tr>\n",
       "  </thead>\n",
       "  <tbody>\n",
       "    <tr>\n",
       "      <th>58805</th>\n",
       "      <td>2015</td>\n",
       "      <td>True</td>\n",
       "      <td>Arma 2: Operation Arrowhead</td>\n",
       "      <td>2</td>\n",
       "      <td>76561198141079508</td>\n",
       "      <td>416710</td>\n",
       "      <td>Cliffhanger Productions</td>\n",
       "    </tr>\n",
       "    <tr>\n",
       "      <th>58806</th>\n",
       "      <td>2015</td>\n",
       "      <td>True</td>\n",
       "      <td>Arma 2: Operation Arrowhead Beta (Obsolete)</td>\n",
       "      <td>2</td>\n",
       "      <td>76561198141079508</td>\n",
       "      <td>416710</td>\n",
       "      <td>Cliffhanger Productions</td>\n",
       "    </tr>\n",
       "    <tr>\n",
       "      <th>58807</th>\n",
       "      <td>2015</td>\n",
       "      <td>True</td>\n",
       "      <td>ArcaniA</td>\n",
       "      <td>2</td>\n",
       "      <td>76561198141079508</td>\n",
       "      <td>416713</td>\n",
       "      <td>Cliffhanger Productions</td>\n",
       "    </tr>\n",
       "    <tr>\n",
       "      <th>58808</th>\n",
       "      <td>2015</td>\n",
       "      <td>True</td>\n",
       "      <td>Gothic 3</td>\n",
       "      <td>2</td>\n",
       "      <td>76561198141079508</td>\n",
       "      <td>416713</td>\n",
       "      <td>Cliffhanger Productions</td>\n",
       "    </tr>\n",
       "    <tr>\n",
       "      <th>58809</th>\n",
       "      <td>2015</td>\n",
       "      <td>True</td>\n",
       "      <td>Gothic II: Gold Edition</td>\n",
       "      <td>2</td>\n",
       "      <td>76561198141079508</td>\n",
       "      <td>416713</td>\n",
       "      <td>Cliffhanger Productions</td>\n",
       "    </tr>\n",
       "    <tr>\n",
       "      <th>...</th>\n",
       "      <td>...</td>\n",
       "      <td>...</td>\n",
       "      <td>...</td>\n",
       "      <td>...</td>\n",
       "      <td>...</td>\n",
       "      <td>...</td>\n",
       "      <td>...</td>\n",
       "    </tr>\n",
       "    <tr>\n",
       "      <th>59300</th>\n",
       "      <td>2015</td>\n",
       "      <td>True</td>\n",
       "      <td>Shadow Warrior</td>\n",
       "      <td>2</td>\n",
       "      <td>76561198312638244</td>\n",
       "      <td>418960</td>\n",
       "      <td>Anima Locus</td>\n",
       "    </tr>\n",
       "    <tr>\n",
       "      <th>59301</th>\n",
       "      <td>2015</td>\n",
       "      <td>True</td>\n",
       "      <td>Viscera Cleanup Detail: Shadow Warrior</td>\n",
       "      <td>2</td>\n",
       "      <td>76561198312638244</td>\n",
       "      <td>418960</td>\n",
       "      <td>Anima Locus</td>\n",
       "    </tr>\n",
       "    <tr>\n",
       "      <th>59302</th>\n",
       "      <td>2015</td>\n",
       "      <td>True</td>\n",
       "      <td>Ring Runner: Flight of the Sages</td>\n",
       "      <td>2</td>\n",
       "      <td>LydiaMorley</td>\n",
       "      <td>418960</td>\n",
       "      <td>Anima Locus</td>\n",
       "    </tr>\n",
       "    <tr>\n",
       "      <th>59303</th>\n",
       "      <td>2015</td>\n",
       "      <td>True</td>\n",
       "      <td>Clickr</td>\n",
       "      <td>2</td>\n",
       "      <td>LydiaMorley</td>\n",
       "      <td>418960</td>\n",
       "      <td>Anima Locus</td>\n",
       "    </tr>\n",
       "    <tr>\n",
       "      <th>59304</th>\n",
       "      <td>2015</td>\n",
       "      <td>True</td>\n",
       "      <td>Borderlands 2</td>\n",
       "      <td>2</td>\n",
       "      <td>LydiaMorley</td>\n",
       "      <td>345680</td>\n",
       "      <td>ViewApp</td>\n",
       "    </tr>\n",
       "  </tbody>\n",
       "</table>\n",
       "<p>500 rows × 7 columns</p>\n",
       "</div>"
      ],
      "text/plain": [
       "       year_soli  recommend                                    item_name  \\\n",
       "58805       2015       True                  Arma 2: Operation Arrowhead   \n",
       "58806       2015       True  Arma 2: Operation Arrowhead Beta (Obsolete)   \n",
       "58807       2015       True                                      ArcaniA   \n",
       "58808       2015       True                                     Gothic 3   \n",
       "58809       2015       True                      Gothic II: Gold Edition   \n",
       "...          ...        ...                                          ...   \n",
       "59300       2015       True                               Shadow Warrior   \n",
       "59301       2015       True       Viscera Cleanup Detail: Shadow Warrior   \n",
       "59302       2015       True             Ring Runner: Flight of the Sages   \n",
       "59303       2015       True                                       Clickr   \n",
       "59304       2015       True                                Borderlands 2   \n",
       "\n",
       "       sentiment_analysis            user_id      id                developer  \n",
       "58805                   2  76561198141079508  416710  Cliffhanger Productions  \n",
       "58806                   2  76561198141079508  416710  Cliffhanger Productions  \n",
       "58807                   2  76561198141079508  416713  Cliffhanger Productions  \n",
       "58808                   2  76561198141079508  416713  Cliffhanger Productions  \n",
       "58809                   2  76561198141079508  416713  Cliffhanger Productions  \n",
       "...                   ...                ...     ...                      ...  \n",
       "59300                   2  76561198312638244  418960              Anima Locus  \n",
       "59301                   2  76561198312638244  418960              Anima Locus  \n",
       "59302                   2        LydiaMorley  418960              Anima Locus  \n",
       "59303                   2        LydiaMorley  418960              Anima Locus  \n",
       "59304                   2        LydiaMorley  345680                  ViewApp  \n",
       "\n",
       "[500 rows x 7 columns]"
      ]
     },
     "execution_count": 2092,
     "metadata": {},
     "output_type": "execute_result"
    }
   ],
   "source": [
    "# Para esta última consulta, utilizaremos la misma data anterior\n",
    "data_best_final.tail(500)"
   ]
  },
  {
   "cell_type": "code",
   "execution_count": 2093,
   "metadata": {},
   "outputs": [],
   "source": [
    "# Se selecciona un desarrollador para probar la función\n",
    "desa_demo = \"Kotoshiro\"\n",
    "# Se filtra el DataFrame por el desarrollador dado\n",
    "developer_data_sent = data_best_final[data_best_final[\"developer\"] == desa_demo]"
   ]
  },
  {
   "cell_type": "code",
   "execution_count": 2094,
   "metadata": {},
   "outputs": [
    {
     "data": {
      "text/plain": [
       "sentiment_analysis\n",
       "2    40227\n",
       "1    10555\n",
       "0     8523\n",
       "Name: count, dtype: int64"
      ]
     },
     "execution_count": 2094,
     "metadata": {},
     "output_type": "execute_result"
    }
   ],
   "source": [
    "# Se obtiene el recuento de análisis de sentimiento 0: negativo; 1: neutral, 2: positivo (si está ausente la reseña, es 1)\n",
    "sentiment_counts = data_best_final[\"sentiment_analysis\"].value_counts()\n",
    "sentiment_counts"
   ]
  },
  {
   "cell_type": "code",
   "execution_count": 2095,
   "metadata": {},
   "outputs": [
    {
     "data": {
      "text/plain": [
       "{'Kotoshiro': ['Negativo = 8523', 'Positivo = 40227']}"
      ]
     },
     "execution_count": 2095,
     "metadata": {},
     "output_type": "execute_result"
    }
   ],
   "source": [
    "# Se prueba la salida con el conteo de sentimiento negativo o positivo\n",
    "result_sent_desar = {desa_demo: [f\"Negativo = {sentiment_counts.get(0, 0)}\", f\"Positivo = {sentiment_counts.get(2, 0)}\"]}\n",
    "result_sent_desar"
   ]
  },
  {
   "cell_type": "code",
   "execution_count": 2096,
   "metadata": {},
   "outputs": [],
   "source": [
    "# Quinta Consulta:\n",
    "def devel_reviews_analys(desarrollador_sent: str):\n",
    "    ''' Se ingresa un nombre de desarrollador y la función devuelve un diccionario con la cantidad de registros de reseñas de usuarios\n",
    "    con análisis de sentimientos, negativo o positivo'''\n",
    "\n",
    "    # Se filtra el DataFrame por el desarrollador dado\n",
    "    developer_data_sent = data_best_final[data_best_final[\"developer\"] == desarrollador_sent]\n",
    "    # Se obtiene el recuento de análisis de sentimiento 0: negativo; 1: neutral, 2: positivo (si está ausente la reseña, es 1)\n",
    "    sentiment_counts = data_best_final[\"sentiment_analysis\"].value_counts()\n",
    "    # Se prueba la salida con el conteo de sentimiento negativo o positivo\n",
    "    result_sent_desar = {desarrollador_sent: [f\"Negativo = {sentiment_counts.get(0, 0)}\", f\"Positivo = {sentiment_counts.get(2, 0)}\"]}\n",
    "    return result_sent_desar"
   ]
  },
  {
   "cell_type": "code",
   "execution_count": 2097,
   "metadata": {},
   "outputs": [
    {
     "data": {
      "text/plain": [
       "{'Kotoshiro': ['Negativo = 8523', 'Positivo = 40227']}"
      ]
     },
     "execution_count": 2097,
     "metadata": {},
     "output_type": "execute_result"
    }
   ],
   "source": [
    "devel_reviews_analys(\"Kotoshiro\")"
   ]
  },
  {
   "cell_type": "code",
   "execution_count": 2098,
   "metadata": {},
   "outputs": [
    {
     "data": {
      "text/plain": [
       "{'iWin': ['Negativo = 8523', 'Positivo = 40227']}"
      ]
     },
     "execution_count": 2098,
     "metadata": {},
     "output_type": "execute_result"
    }
   ],
   "source": [
    "devel_reviews_analys(\"iWin\")"
   ]
  },
  {
   "cell_type": "code",
   "execution_count": 2099,
   "metadata": {},
   "outputs": [
    {
     "data": {
      "text/plain": [
       "{'Anima Locus': ['Negativo = 8523', 'Positivo = 40227']}"
      ]
     },
     "execution_count": 2099,
     "metadata": {},
     "output_type": "execute_result"
    }
   ],
   "source": [
    "devel_reviews_analys(\"Anima Locus\")"
   ]
  },
  {
   "cell_type": "code",
   "execution_count": 2100,
   "metadata": {},
   "outputs": [],
   "source": [
    "# Guardar dataframes data_dev a parquet\n",
    "#data_dev.to_parquet(\"data_dev.parquet\")\n",
    "#data_user.to_parquet(\"data_user.parquet\")\n",
    "#data_gen_final.to_parquet(\"data_gen_final.parquet\")\n",
    "#data_best_final.to_parquet(\"data_best_final.parquet\")"
   ]
  }
 ],
 "metadata": {
  "kernelspec": {
   "display_name": "base",
   "language": "python",
   "name": "python3"
  },
  "language_info": {
   "codemirror_mode": {
    "name": "ipython",
    "version": 3
   },
   "file_extension": ".py",
   "mimetype": "text/x-python",
   "name": "python",
   "nbconvert_exporter": "python",
   "pygments_lexer": "ipython3",
   "version": "3.11.5"
  }
 },
 "nbformat": 4,
 "nbformat_minor": 2
}
